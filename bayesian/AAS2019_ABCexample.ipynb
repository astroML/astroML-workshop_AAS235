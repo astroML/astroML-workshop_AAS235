{
 "cells": [
  {
   "cell_type": "markdown",
   "metadata": {
    "slideshow": {
     "slide_type": "slide"
    }
   },
   "source": [
    "# Approximate Bayesian Computation Example\n",
    "### January 6, 2020 \n",
    "\n",
    "\n",
    "[astroML workshop at the 235th Meeting of the American Astronomical Society](http://www.astroml.org/workshops/AAS235.html)\n",
    "\n",
    "[Zeljko Ivezic, University of Washington](http://faculty.washington.edu/ivezic/) \n",
    "\n",
    "[This notebook](https://github.com/...)\n",
    "\n",
    "\n"
   ]
  },
  {
   "cell_type": "markdown",
   "metadata": {
    "slideshow": {
     "slide_type": "slide"
    }
   },
   "source": [
    "## Approximate Bayesian Computation\n",
    "\n",
    "Astronomical models are often intrinsically stochastic even when modeling data with negligible measurement errors. \n",
    "\n",
    "Good examples include simulations of the temperature map of the cosmic microwave background (CMB), of the large-scale structure of a galaxy, and of mass and luminosity distributions for stars and galaxies. In such cases it is hard and often impossible to explicitly write down the data likelihood. "
   ]
  },
  {
   "cell_type": "markdown",
   "metadata": {
    "slideshow": {
     "slide_type": "subslide"
    }
   },
   "source": [
    "## Approximate Bayesian Computation\n",
    "\n",
    "When a simulation is stochastic, one often attempts to vary its input parameters until some adequate metric is well matched between the observed and simulated datasets (e.g., the CMB angular power spectrum, or a parametrized form of the luminosity function). \n",
    "\n",
    "With the aid of Approximate Bayesian computation (ABC), this tuning process can be made less ad hoc and much more efficient. An excellent tutorial is Turner & Van Zandt (2012, Journal of Mathematical Psychology 56, 69–85). "
   ]
  },
  {
   "cell_type": "markdown",
   "metadata": {
    "slideshow": {
     "slide_type": "subslide"
    }
   },
   "source": [
    "## Approximate Bayesian Computation\n",
    "\n",
    "\n",
    "The basic idea of ABC is quite simple: produce a large number of models (simulations) by sampling the plausible (prior) values of input parameters and select those that look like the data. \n",
    "\n",
    "The distribution of input parameters for the selected subset then approximates the true posterior pdf. \n",
    "\n",
    "And then repeat until reaching some pre-defined agreement between the values of a distance metric computed with real and simulated data sets. "
   ]
  },
  {
   "cell_type": "markdown",
   "metadata": {
    "slideshow": {
     "slide_type": "slide"
    }
   },
   "source": [
    "We will consider here a simple example of a 1-dimensional gaussian sample with a known std. deviation. We will use ABC to constrain its location parameter: $\\mu$ in $N(\\mu, \\sigma)$. \n",
    "\n",
    "This toy example is trivial - we already know that *the sample mean is the best estimator of the location parameter*. Nevertheless, the structure of more complex examples is identical: only the sample simulator, and perhaps distance metric need to be changed. For example, we could have a simulator of the distribution of galaxies on the sky and use two-point correlation function as a metric, or a simulator of the star formation process that generates luminosities of stars and use luminosity function to construct the distance metric. \n"
   ]
  },
  {
   "cell_type": "markdown",
   "metadata": {
    "slideshow": {
     "slide_type": "slide"
    }
   },
   "source": [
    "\n",
    "## ABC algorithm: \n",
    "\n",
    "Let's assume that data are described by vector $\\{x_i\\}$, that we have a simulator for producing a model outcome (simulated data vector $\\{y_i\\}$) given a vector of input parameters $\\theta$, and that their prior distribution, p$_0(\\theta)$, is known. \n",
    "\n",
    "In the first iteration, input parameters $\\theta$ are repeatedly sampled from the prior until the simulated dataset $\\{y_i\\}$ agrees with the data $\\{x_i\\}$, using some distance metric, and within some initial tolerance\n",
    "$\\epsilon$ (which can be very large). "
   ]
  },
  {
   "cell_type": "markdown",
   "metadata": {
    "slideshow": {
     "slide_type": "subslide"
    }
   },
   "source": [
    "\n",
    "## ABC algorithm: \n",
    "\n",
    "This sampling is repeated an arbitrary number of times to generate a set of values of desired size (e.g., to estimate precisely its posterior pdf, including higher moments, if needed). \n",
    "\n",
    "In every subsequent iteration j, the set of parameter values is improved through incremental approximations to the true posterior distribution. "
   ]
  },
  {
   "cell_type": "markdown",
   "metadata": {
    "slideshow": {
     "slide_type": "subslide"
    }
   },
   "source": [
    "\n",
    "## ABC algorithm: \n",
    "\n",
    "Just as in the first iteration, new input parameter values are repeatedly drawn from p$_j(\\theta_j)$ until \n",
    "## $$ D(\\{x_i\\}|\\{y_i\\}) < \\epsilon_j$$\n",
    "is satisfied. "
   ]
  },
  {
   "cell_type": "markdown",
   "metadata": {
    "slideshow": {
     "slide_type": "subslide"
    }
   },
   "source": [
    "## ABC algorithm: \n",
    "\n",
    "p$_j(\\theta_j)$ is generated using the $\\theta$ values from the previous iteration in a step akin to MCMC, which\n",
    "effectively selects \"particles\" from the previous weighted pool, and then perturbs them using the kernel K. \n",
    "\n",
    "In each iteration, the threshold value $\\epsilon_j$ decreases; it is typically taken as a value in the \n",
    "70\\%–90\\% range of the cumulative distribution of $D(\\{x_i\\}|\\{y_i\\})$ in the previous iteration. \n",
    "This sampling algorithm is called *Population Monte Carlo ABC*. \n",
    " \n"
   ]
  },
  {
   "cell_type": "markdown",
   "metadata": {
    "slideshow": {
     "slide_type": "slide"
    }
   },
   "source": [
    "\n",
    "The ABC method typically relies on a low-dimensional summary statistic of the data, S(x), such as the sample mean, rather than the full data set. For example, the distance metric between $\\{x_i\\}$ and $\\{y_i\\}$ is often defined as\n",
    "\n",
    "$$ D(\\{x_i\\}|\\{y_i\\}) = D(S(x)|S(y))  = |\\, {\\rm mean}(x) − {\\rm mean}(y) \\,|.$$\n",
    "\n",
    "Another example of a distance metric would be $\\chi^2$ between two luminosity functions (data vs. simulation), or two two-point correlation functions. \n",
    "\n",
    "When $S(x)$ is a sufficient statistic, ABC converges to the true posterior. "
   ]
  },
  {
   "cell_type": "markdown",
   "metadata": {
    "slideshow": {
     "slide_type": "subslide"
    }
   },
   "source": [
    "In summary, the two key ABC aspects are the use of low-dimensional summary statistics of the data (instead of data likelihood) and MCMC-like intelligent parameter optimization. \n",
    "  \n",
    "The following code is modeled after  Figure 5.29 from the book: \n",
    "https://www.astroml.org/book_figures/chapter5/fig_ABCexample.html\n"
   ]
  },
  {
   "cell_type": "code",
   "execution_count": 1,
   "metadata": {},
   "outputs": [],
   "source": [
    "import numpy as np\n",
    "from matplotlib import pyplot as plt\n",
    "from scipy.stats import norm"
   ]
  },
  {
   "cell_type": "code",
   "execution_count": 59,
   "metadata": {},
   "outputs": [],
   "source": [
    "### ABC tools \n",
    "\n",
    "# return the gaussian kernel values\n",
    "def kernelValues(prevThetas, prevStdDev, currentTheta):\n",
    "    return norm(currentTheta, prevStdDev).pdf(prevThetas)\n",
    "\n",
    "# return new values, scattered around an old value using gaussian kernel\n",
    "def kernelSample(theta, stdDev, Nsample=1):\n",
    "    # returns 1-D array of length N\n",
    "    return np.random.normal(theta, stdDev, Nsample)\n",
    "\n",
    "# compute new weight\n",
    "def computeWeight(prevWeights, prevThetas, prevStdDev, currentTheta):\n",
    "    denom = prevWeights * kernelValues(prevThetas, prevStdDev, currentTheta)\n",
    "    return prior(prevThetas) / np.sum(denom)\n",
    "\n",
    "# flat prior probability\n",
    "def prior(allThetas):\n",
    "    return 1.0 / np.size(allThetas)\n",
    "\n",
    "# kernel scale \n",
    "def KLscatter(x, w, N):\n",
    "    sample = weightedResample(x, N, w)\n",
    "    # this optimal scale for the kernel was derived by minimizing \n",
    "    # the Kullback-Leibler divergence\n",
    "    return np.sqrt(2) * np.std(sample)\n",
    "\n",
    "def weightedResample(x, N, weights):\n",
    "    # resample N elements from x with replacement, with selection \n",
    "    # probabilties proportional to provided weights\n",
    "    p = weights / np.sum(weights)\n",
    "    # returns 1-D array of length N\n",
    "    return np.random.choice(x, size=N, replace=True, p=p)"
   ]
  },
  {
   "cell_type": "code",
   "execution_count": 21,
   "metadata": {},
   "outputs": [],
   "source": [
    "# ABC distance metric \n",
    "def distance(x, y):\n",
    "    return np.abs(np.mean(x) - np.mean(y))"
   ]
  },
  {
   "cell_type": "code",
   "execution_count": 49,
   "metadata": {},
   "outputs": [],
   "source": [
    "# ABC iterator \n",
    "def doABC(data, Niter, Ndraw, D, theta, weights, eps, accrate, simTot, sigmaTrue, verbose=False):\n",
    "    ssTot = 0\n",
    "    Ndata = np.size(data)\n",
    "    \n",
    "    ## first sample from uniform prior, draw samples and compute their distance to data\n",
    "    for i in range(0, Ndraw):\n",
    "        thetaS = np.random.uniform(thetaMin, thetaMax)\n",
    "        sample = simulateData(Ndata, thetaS, sigmaTrue)\n",
    "        D[0][i] = distance(data, sample)\n",
    "        theta[0][i] = thetaS\n",
    "\n",
    "    weights[0] = 1.0 / Ndraw\n",
    "    scatter = KLscatter(theta[0], weights[0], Ndraw)\n",
    "    eps[0] = np.percentile(D[0], 50)\n",
    "    \n",
    "    ## continue with ABC iterations of theta \n",
    "    for j in range(1, Niter):\n",
    "        print('iteration:', j)\n",
    "        thetaOld = theta\n",
    "        weightsOld = weights / np.sum(weights)\n",
    "        # sample until distance condition fullfilled\n",
    "        ss = 0\n",
    "        for i in range(0, Ndraw):\n",
    "            notdone = True\n",
    "            # sample repeatedly until meeting the distance threshold Ndraw times\n",
    "            while notdone:\n",
    "                ss += 1\n",
    "                ssTot += 1\n",
    "                # sample from previous theta with probability given by weights: thetaS\n",
    "                # nb: weightedResample returns a 1-D array of length 1\n",
    "                thetaS = weightedResample(theta[j-1], 1, weights[j-1])[0]\n",
    "                # perturb thetaS with kernel\n",
    "                # nb: kernelSample returns a 1-D array of length 1\n",
    "                thetaSS = kernelSample(thetaS, scatter)[0]\n",
    "                # generate a simulated sample\n",
    "                sample = simulateData(Ndata, thetaSS, sigmaTrue)\n",
    "                # and check the distance threshold \n",
    "                dist = distance(data, sample)\n",
    "                if (dist < eps[j-1]):\n",
    "                    # met the goal, another acceptable value!\n",
    "                    notdone = False\n",
    "            # new accepted parameter value \n",
    "            theta[j][i] = thetaSS\n",
    "            D[j][i] = dist\n",
    "            # get weight for new theta\n",
    "            weights[j][i] = computeWeight(weights[j-1], theta[j-1], scatter, thetaSS)\n",
    "        # collected Ndraw values in this iteration, now \n",
    "        # update the kernel scatter value using new values \n",
    "        scatter = KLscatter(theta[j], weights[j], Ndraw)\n",
    "        # threshold for next iteration \n",
    "        eps[j] = np.percentile(D[j], DpercCut)\n",
    "        accrate[j] = 100.0*Ndraw/ss\n",
    "        simTot[j] = ssTot\n",
    "        if (verbose):\n",
    "            print(' number of sim. evals so far:', simTot[j])\n",
    "            print('     sim. evals in this iter:', ss)\n",
    "            print('         acceptance rate (%):', accrate[j])\n",
    "            print('                 new epsilon:', eps[j])\n",
    "            print('           KL sample scatter:', scatter)\n",
    "    return ssTot     "
   ]
  },
  {
   "cell_type": "code",
   "execution_count": 55,
   "metadata": {},
   "outputs": [],
   "source": [
    "def plotABC(theta, weights, Niter, data, muTrue, sigTrue, accrate, simTot):\n",
    "\n",
    "    Nresample = 100000\n",
    "    Ndata = np.size(data)\n",
    "    xmean = np.mean(data)\n",
    "    sigPosterior = sigTrue / np.sqrt(Ndata)\n",
    "    truedist = norm(xmean, sigPosterior)\n",
    "    x = np.linspace(-10, 10, 1000)\n",
    "    for j in range(0, Niter):\n",
    "        meanT[j] = np.mean(theta[j])\n",
    "        stdT[j] = np.std(theta[j])\n",
    "\n",
    "    # plot\n",
    "    fig = plt.figure(figsize=(10, 7.5))\n",
    "    fig.subplots_adjust(left=0.1, right=0.95, wspace=0.24,\n",
    "                        bottom=0.1, top=0.95)\n",
    "\n",
    "    # last few iterations\n",
    "    ax1 = fig.add_axes((0.55, 0.1, 0.35, 0.38))\n",
    "    ax1.set_xlabel(r'$\\mu$')\n",
    "    ax1.set_ylabel(r'$p(\\mu)$')\n",
    "    ax1.set_xlim(1.0, 3.0)\n",
    "    ax1.set_ylim(0, 2.5)\n",
    "    for j in [15, 20, 25]:\n",
    "        sample = weightedResample(theta[j], Nresample, weights[j])\n",
    "        ax1.hist(sample, 20, normed=True, histtype='stepfilled',\n",
    "                 alpha=0.9-(0.04*(j-15)))\n",
    "    ax1.plot(x, truedist.pdf(x), 'r')\n",
    "    ax1.text(1.12, 2.25, 'Iter: 15, 20, 25', style='italic',\n",
    "        bbox={'facecolor': 'red', 'alpha': 0.5, 'pad': 10})\n",
    "\n",
    "\n",
    "    # first few iterations\n",
    "    ax2 = fig.add_axes((0.1, 0.1, 0.35, 0.38))\n",
    "    ax2.set_xlabel(r'$\\mu$')\n",
    "    ax2.set_ylabel(r'$p(\\mu)$')\n",
    "    ax2.set_xlim(-4.0, 8.0)\n",
    "    ax2.set_ylim(0, 0.5)\n",
    "    for j in [2, 4, 6]:\n",
    "        sample = weightedResample(theta[j], Nresample, weights[j])\n",
    "        ax2.hist(sample, 20, normed=True, histtype='stepfilled',\n",
    "                 alpha=(0.9-0.1*(j-2)))\n",
    "    ax2.text(-3.2, 0.45, 'Iter: 2, 4, 6', style='italic',\n",
    "        bbox={'facecolor': 'red', 'alpha': 0.5, 'pad': 10})\n",
    "\n",
    "\n",
    "    # mean and scatter vs. iteration number\n",
    "    ax3 = fig.add_axes((0.55, 0.60, 0.35, 0.38))\n",
    "    ax3.set_xlabel('iteration')\n",
    "    ax3.set_ylabel(r'$<\\mu> \\pm \\, \\sigma_\\mu$')\n",
    "    ax3.set_xlim(0, Niter)\n",
    "    ax3.set_ylim(0, 4)\n",
    "    iter = np.linspace(1, Niter, Niter)\n",
    "    meanTm = meanT - stdT\n",
    "    meanTp = meanT + stdT\n",
    "    ax3.plot(iter, meanTm)\n",
    "    ax3.plot(iter, meanTp)\n",
    "    ax3.plot([0, Niter], [xmean, xmean], ls=\"--\", c=\"r\", lw=1)\n",
    "\n",
    "    # data\n",
    "    ax4 = fig.add_axes((0.1, 0.60, 0.35, 0.38))\n",
    "    ax4.set_xlabel(r'$x$')\n",
    "    ax4.set_ylabel(r'$p(x)$')\n",
    "    ax4.set_xlim(-5, 9)\n",
    "    ax4.set_ylim(0, 0.26)\n",
    "    ax4.hist(data, 15, normed=True, histtype='stepfilled', alpha=0.8)\n",
    "    datadist = norm(muTrue, sigTrue)\n",
    "    ax4.plot(x, datadist.pdf(x), 'r')\n",
    "    ax4.plot([xmean, xmean], [0.02, 0.07], c='r')\n",
    "    ax4.plot(data, 0.25 * np.ones(len(data)), '|k')\n",
    "\n",
    "    # acceptance rate vs. iteration number\n",
    "    ax5 = fig.add_axes((1.00, 0.60, 0.35, 0.38))\n",
    "    ax5.set_xlabel('iteration')\n",
    "    ax5.set_ylabel(r'acceptance rate (%)')\n",
    "    ax5.set_xlim(0, Niter)\n",
    "    # ax5.set_ylim(0, 4)\n",
    "    iter = np.linspace(1, Niter, Niter)\n",
    "    ax5.plot(iter, accrate)\n",
    "     \n",
    "    # the number of simulations vs. iteration number\n",
    "    ax6 = fig.add_axes((1.00, 0.10, 0.35, 0.38))\n",
    "    ax6.set_xlabel('iteration')\n",
    "    ax6.set_ylabel(r'total sims evals')\n",
    "    ax6.set_xlim(0, Niter)\n",
    "    # ax6.set_ylim(0, 4)\n",
    "    iter = np.linspace(1, Niter, Niter)\n",
    "    ax6.plot(iter, simTot)\n",
    "\n",
    "    plt.show()"
   ]
  },
  {
   "cell_type": "code",
   "execution_count": 24,
   "metadata": {},
   "outputs": [],
   "source": [
    "def simulateData(Ndata, mu, sigma):\n",
    "    # simple gaussian toy model\n",
    "    return np.random.normal(mu, sigma, Ndata)\n",
    "\n",
    "def getData(Ndata, mu, sigma):\n",
    "    # use simulated data\n",
    "    return simulateData(Ndata, mu, sigma)"
   ]
  },
  {
   "cell_type": "code",
   "execution_count": 25,
   "metadata": {},
   "outputs": [],
   "source": [
    "# \"observed\" data:\n",
    "np.random.seed(0)    # for repeatability\n",
    "Ndata = 100\n",
    "muTrue = 2.0\n",
    "sigmaTrue = 2.0\n",
    "data = getData(Ndata, muTrue, sigmaTrue)\n",
    "dataMean = np.mean(data)\n",
    "# very conservative choice for initial tolerance\n",
    "eps0 = np.max(data) - np.min(data)\n",
    "# (very wide) limits for uniform prior\n",
    "thetaMin = -10\n",
    "thetaMax = 10"
   ]
  },
  {
   "cell_type": "code",
   "execution_count": 26,
   "metadata": {},
   "outputs": [],
   "source": [
    "# ABC sampling parameters\n",
    "Ndraw = 1000\n",
    "Niter = 26\n",
    "DpercCut = 80"
   ]
  },
  {
   "cell_type": "code",
   "execution_count": 51,
   "metadata": {},
   "outputs": [],
   "source": [
    "# arrays for tracking iterations \n",
    "theta = np.empty([Niter, Ndraw])\n",
    "weights = np.empty([Niter, Ndraw])\n",
    "D = np.empty([Niter, Ndraw])\n",
    "eps = np.empty([Niter])\n",
    "accrate = np.empty([Niter])\n",
    "simTot = np.empty([Niter])\n",
    "meanT = np.zeros(Niter)\n",
    "stdT = np.zeros(Niter)"
   ]
  },
  {
   "cell_type": "code",
   "execution_count": 52,
   "metadata": {},
   "outputs": [
    {
     "name": "stdout",
     "output_type": "stream",
     "text": [
      "iteration: 1\n",
      " number of sim. evals so far: 2728.0\n",
      "     sim. evals in this iter: 2728\n",
      "         acceptance rate (%): 36.65689149560117\n",
      "                 new epsilon: 3.6925823467837193\n",
      "           KL sample scatter: 3.8861051496307324\n",
      "iteration: 2\n",
      " number of sim. evals so far: 4540.0\n",
      "     sim. evals in this iter: 1812\n",
      "         acceptance rate (%): 55.18763796909492\n",
      "                 new epsilon: 2.8564961261273734\n",
      "           KL sample scatter: 2.9975618341387458\n",
      "iteration: 3\n",
      " number of sim. evals so far: 6392.0\n",
      "     sim. evals in this iter: 1852\n",
      "         acceptance rate (%): 53.99568034557235\n",
      "                 new epsilon: 2.2015099882968165\n",
      "           KL sample scatter: 2.280352959362297\n",
      "iteration: 4\n",
      " number of sim. evals so far: 8222.0\n",
      "     sim. evals in this iter: 1830\n",
      "         acceptance rate (%): 54.6448087431694\n",
      "                 new epsilon: 1.693581888606837\n",
      "           KL sample scatter: 1.7376645404498041\n",
      "iteration: 5\n",
      " number of sim. evals so far: 10026.0\n",
      "     sim. evals in this iter: 1804\n",
      "         acceptance rate (%): 55.432372505543235\n",
      "                 new epsilon: 1.2869054638607258\n",
      "           KL sample scatter: 1.4353829381157615\n",
      "iteration: 6\n",
      " number of sim. evals so far: 11933.0\n",
      "     sim. evals in this iter: 1907\n",
      "         acceptance rate (%): 52.43838489774515\n",
      "                 new epsilon: 1.0022766754706258\n",
      "           KL sample scatter: 1.1236813159739791\n",
      "iteration: 7\n",
      " number of sim. evals so far: 13818.0\n",
      "     sim. evals in this iter: 1885\n",
      "         acceptance rate (%): 53.05039787798408\n",
      "                 new epsilon: 0.769159210857247\n",
      "           KL sample scatter: 0.8606786276438158\n",
      "iteration: 8\n",
      " number of sim. evals so far: 15644.0\n",
      "     sim. evals in this iter: 1826\n",
      "         acceptance rate (%): 54.7645125958379\n",
      "                 new epsilon: 0.5954370476491049\n",
      "           KL sample scatter: 0.6937355189027489\n",
      "iteration: 9\n",
      " number of sim. evals so far: 17663.0\n",
      "     sim. evals in this iter: 2019\n",
      "         acceptance rate (%): 49.52947003467063\n",
      "                 new epsilon: 0.4570452349553316\n",
      "           KL sample scatter: 0.5598886528892936\n",
      "iteration: 10\n",
      " number of sim. evals so far: 19776.0\n",
      "     sim. evals in this iter: 2113\n",
      "         acceptance rate (%): 47.326076668244205\n",
      "                 new epsilon: 0.36211763950672904\n",
      "           KL sample scatter: 0.4720567125834745\n",
      "iteration: 11\n",
      " number of sim. evals so far: 22056.0\n",
      "     sim. evals in this iter: 2280\n",
      "         acceptance rate (%): 43.85964912280702\n",
      "                 new epsilon: 0.28389672412067707\n",
      "           KL sample scatter: 0.396580191580047\n",
      "iteration: 12\n",
      " number of sim. evals so far: 24517.0\n",
      "     sim. evals in this iter: 2461\n",
      "         acceptance rate (%): 40.633888663145065\n",
      "                 new epsilon: 0.22609132886342975\n",
      "           KL sample scatter: 0.3832774131304825\n",
      "iteration: 13\n",
      " number of sim. evals so far: 27456.0\n",
      "     sim. evals in this iter: 2939\n",
      "         acceptance rate (%): 34.02517863218782\n",
      "                 new epsilon: 0.1770870242508759\n",
      "           KL sample scatter: 0.3417294723529606\n",
      "iteration: 14\n",
      " number of sim. evals so far: 30817.0\n",
      "     sim. evals in this iter: 3361\n",
      "         acceptance rate (%): 29.753049687592977\n",
      "                 new epsilon: 0.143297766435045\n",
      "           KL sample scatter: 0.30758486369756255\n",
      "iteration: 15\n",
      " number of sim. evals so far: 34693.0\n",
      "     sim. evals in this iter: 3876\n",
      "         acceptance rate (%): 25.799793601651185\n",
      "                 new epsilon: 0.1111723615911222\n",
      "           KL sample scatter: 0.31835939673665453\n",
      "iteration: 16\n",
      " number of sim. evals so far: 39515.0\n",
      "     sim. evals in this iter: 4822\n",
      "         acceptance rate (%): 20.73828287017835\n",
      "                 new epsilon: 0.08941419483528187\n",
      "           KL sample scatter: 0.2816157553735842\n",
      "iteration: 17\n",
      " number of sim. evals so far: 45041.0\n",
      "     sim. evals in this iter: 5526\n",
      "         acceptance rate (%): 18.096272167933407\n",
      "                 new epsilon: 0.0725086192389374\n",
      "           KL sample scatter: 0.3092832556384563\n",
      "iteration: 18\n",
      " number of sim. evals so far: 52490.0\n",
      "     sim. evals in this iter: 7449\n",
      "         acceptance rate (%): 13.424620754463687\n",
      "                 new epsilon: 0.056577850588556265\n",
      "           KL sample scatter: 0.28794357137738325\n",
      "iteration: 19\n",
      " number of sim. evals so far: 61390.0\n",
      "     sim. evals in this iter: 8900\n",
      "         acceptance rate (%): 11.235955056179776\n",
      "                 new epsilon: 0.04380208330307394\n",
      "           KL sample scatter: 0.30062481208495095\n",
      "iteration: 20\n",
      " number of sim. evals so far: 72929.0\n",
      "     sim. evals in this iter: 11539\n",
      "         acceptance rate (%): 8.666262241095415\n",
      "                 new epsilon: 0.03465312093134587\n",
      "           KL sample scatter: 0.2910949665387212\n",
      "iteration: 21\n",
      " number of sim. evals so far: 87891.0\n",
      "     sim. evals in this iter: 14962\n",
      "         acceptance rate (%): 6.68359844940516\n",
      "                 new epsilon: 0.027560124511870752\n",
      "           KL sample scatter: 0.28770302984395435\n",
      "iteration: 22\n",
      " number of sim. evals so far: 106357.0\n",
      "     sim. evals in this iter: 18466\n",
      "         acceptance rate (%): 5.415357955160836\n",
      "                 new epsilon: 0.022587625590192142\n",
      "           KL sample scatter: 0.26827679928148657\n",
      "iteration: 23\n",
      " number of sim. evals so far: 127201.0\n",
      "     sim. evals in this iter: 20844\n",
      "         acceptance rate (%): 4.797543657647284\n",
      "                 new epsilon: 0.017988083781850774\n",
      "           KL sample scatter: 0.27593709022336066\n",
      "iteration: 24\n",
      " number of sim. evals so far: 154637.0\n",
      "     sim. evals in this iter: 27436\n",
      "         acceptance rate (%): 3.644846187490888\n",
      "                 new epsilon: 0.014829500403786522\n",
      "           KL sample scatter: 0.2639724583072315\n",
      "iteration: 25\n",
      " number of sim. evals so far: 186041.0\n",
      "     sim. evals in this iter: 31404\n",
      "         acceptance rate (%): 3.184307731499172\n",
      "                 new epsilon: 0.011846622514217399\n",
      "           KL sample scatter: 0.2719547910089227\n"
     ]
    }
   ],
   "source": [
    "numberSimEvals = doABC(data, Niter, Ndraw, D, theta, weights, eps, accrate, simTot, sigmaTrue, True)"
   ]
  },
  {
   "cell_type": "code",
   "execution_count": 56,
   "metadata": {},
   "outputs": [
    {
     "data": {
      "image/png": "[encoded data removed]",
      "text/plain": [
       "<Figure size 720x540 with 6 Axes>"
      ]
     },
     "metadata": {
      "needs_background": "light"
     },
     "output_type": "display_data"
    }
   ],
   "source": [
    "# plot\n",
    "plotABC(theta, weights, Niter, data, muTrue, sigmaTrue, accrate, simTot)"
   ]
  },
  {
   "cell_type": "markdown",
   "metadata": {
    "slideshow": {
     "slide_type": "slide"
    }
   },
   "source": [
    "## Conclusions:\n",
    "\n",
    "As shown in the top middle panel in the above figure, the ABC algorithm converges to the correct solution in about 15 iterations. \n",
    "\n",
    "Between the 15th and the 25th iteration, the tolerance $\\epsilon$ decreases from 0.1 to 0.01 and the acceptance probability decreases from 25% to 2.7%. As a result, the total number of simulation evaluations increases by about a factor of six (from about 30,000 to about 180,000), although there is very little gain for our inference of $\\mu$. \n",
    " "
   ]
  },
  {
   "cell_type": "markdown",
   "metadata": {
    "slideshow": {
     "slide_type": "subslide"
    }
   },
   "source": [
    "## Conclusions:\n",
    "\n",
    "Therefore, the stopping criterion requires careful consideration when the cost of simulations is high (e.g., the maximum acceptable relative change of the estimator can be compared to its uncertainty).\n",
    "\n",
    "We can have much smaller mnumber of sim evals if we don't care about pretty histograms.\n",
    "\n",
    "For 100 times smaller Ndraw, we expect about 100 times fewer simulation evaluations. \n",
    "\n",
    "Let's do it! "
   ]
  },
  {
   "cell_type": "code",
   "execution_count": 60,
   "metadata": {},
   "outputs": [],
   "source": [
    "## LAST POINT: we can have much smaller Ndraw if we don't care about pretty \n",
    "## histograms for 100 times smaller Ndraw, expect about 100 times fewer \n",
    "## simulation evaluations\n",
    "Ndraw = 10"
   ]
  },
  {
   "cell_type": "code",
   "execution_count": 63,
   "metadata": {},
   "outputs": [
    {
     "name": "stdout",
     "output_type": "stream",
     "text": [
      "iteration: 1\n",
      " number of sim. evals so far: 37.0\n",
      "     sim. evals in this iter: 37\n",
      "         acceptance rate (%): 27.027027027027028\n",
      "                 new epsilon: 2.460732782551226\n",
      "           KL sample scatter: 2.966882899036637\n",
      "iteration: 2\n",
      " number of sim. evals so far: 53.0\n",
      "     sim. evals in this iter: 16\n",
      "         acceptance rate (%): 62.5\n",
      "                 new epsilon: 2.256378122508841\n",
      "           KL sample scatter: 2.6031669292940904\n",
      "iteration: 3\n",
      " number of sim. evals so far: 72.0\n",
      "     sim. evals in this iter: 19\n",
      "         acceptance rate (%): 52.63157894736842\n",
      "                 new epsilon: 1.8018786733236622\n",
      "           KL sample scatter: 1.5980978206131289\n",
      "iteration: 4\n",
      " number of sim. evals so far: 91.0\n",
      "     sim. evals in this iter: 19\n",
      "         acceptance rate (%): 52.63157894736842\n",
      "                 new epsilon: 1.6615205677351246\n",
      "           KL sample scatter: 1.0681300575223631\n",
      "iteration: 5\n",
      " number of sim. evals so far: 109.0\n",
      "     sim. evals in this iter: 18\n",
      "         acceptance rate (%): 55.55555555555556\n",
      "                 new epsilon: 1.3012843381554098\n",
      "           KL sample scatter: 1.6647343253936904\n",
      "iteration: 6\n",
      " number of sim. evals so far: 138.0\n",
      "     sim. evals in this iter: 29\n",
      "         acceptance rate (%): 34.48275862068966\n",
      "                 new epsilon: 0.9497235585122865\n",
      "           KL sample scatter: 0.8063006968874268\n",
      "iteration: 7\n",
      " number of sim. evals so far: 154.0\n",
      "     sim. evals in this iter: 16\n",
      "         acceptance rate (%): 62.5\n",
      "                 new epsilon: 0.9211511141621633\n",
      "           KL sample scatter: 0.9360786527009713\n",
      "iteration: 8\n",
      " number of sim. evals so far: 183.0\n",
      "     sim. evals in this iter: 29\n",
      "         acceptance rate (%): 34.48275862068966\n",
      "                 new epsilon: 0.7565627459416873\n",
      "           KL sample scatter: 0.9518683400917299\n",
      "iteration: 9\n",
      " number of sim. evals so far: 204.0\n",
      "     sim. evals in this iter: 21\n",
      "         acceptance rate (%): 47.61904761904762\n",
      "                 new epsilon: 0.6381856196158286\n",
      "           KL sample scatter: 0.9848394156561019\n",
      "iteration: 10\n",
      " number of sim. evals so far: 235.0\n",
      "     sim. evals in this iter: 31\n",
      "         acceptance rate (%): 32.25806451612903\n",
      "                 new epsilon: 0.47245288858365564\n",
      "           KL sample scatter: 0.7440944781981034\n",
      "iteration: 11\n",
      " number of sim. evals so far: 263.0\n",
      "     sim. evals in this iter: 28\n",
      "         acceptance rate (%): 35.714285714285715\n",
      "                 new epsilon: 0.33725577180489985\n",
      "           KL sample scatter: 0.580848004285312\n",
      "iteration: 12\n",
      " number of sim. evals so far: 291.0\n",
      "     sim. evals in this iter: 28\n",
      "         acceptance rate (%): 35.714285714285715\n",
      "                 new epsilon: 0.2917428186546352\n",
      "           KL sample scatter: 0.346913471392221\n",
      "iteration: 13\n",
      " number of sim. evals so far: 315.0\n",
      "     sim. evals in this iter: 24\n",
      "         acceptance rate (%): 41.666666666666664\n",
      "                 new epsilon: 0.199284171002419\n",
      "           KL sample scatter: 0.16860758816191437\n",
      "iteration: 14\n",
      " number of sim. evals so far: 339.0\n",
      "     sim. evals in this iter: 24\n",
      "         acceptance rate (%): 41.666666666666664\n",
      "                 new epsilon: 0.16928491572274657\n",
      "           KL sample scatter: 0.265026618298834\n",
      "iteration: 15\n",
      " number of sim. evals so far: 363.0\n",
      "     sim. evals in this iter: 24\n",
      "         acceptance rate (%): 41.666666666666664\n",
      "                 new epsilon: 0.13218746859283032\n",
      "           KL sample scatter: 0.23851142578633708\n",
      "iteration: 16\n",
      " number of sim. evals so far: 389.0\n",
      "     sim. evals in this iter: 26\n",
      "         acceptance rate (%): 38.46153846153846\n",
      "                 new epsilon: 0.11033756290568757\n",
      "           KL sample scatter: 0.30024676772352515\n",
      "iteration: 17\n",
      " number of sim. evals so far: 434.0\n",
      "     sim. evals in this iter: 45\n",
      "         acceptance rate (%): 22.22222222222222\n",
      "                 new epsilon: 0.09170221659897333\n",
      "           KL sample scatter: 0.21530493853117222\n",
      "iteration: 18\n",
      " number of sim. evals so far: 483.0\n",
      "     sim. evals in this iter: 49\n",
      "         acceptance rate (%): 20.408163265306122\n",
      "                 new epsilon: 0.07107128167247793\n",
      "           KL sample scatter: 0.09028861557828068\n",
      "iteration: 19\n",
      " number of sim. evals so far: 533.0\n",
      "     sim. evals in this iter: 50\n",
      "         acceptance rate (%): 20.0\n",
      "                 new epsilon: 0.06122062879958863\n",
      "           KL sample scatter: 0.293997129958879\n",
      "iteration: 20\n",
      " number of sim. evals so far: 633.0\n",
      "     sim. evals in this iter: 100\n",
      "         acceptance rate (%): 10.0\n",
      "                 new epsilon: 0.04163685716492562\n",
      "           KL sample scatter: 0.1327081030655204\n",
      "iteration: 21\n",
      " number of sim. evals so far: 717.0\n",
      "     sim. evals in this iter: 84\n",
      "         acceptance rate (%): 11.904761904761905\n",
      "                 new epsilon: 0.03523274709389588\n",
      "           KL sample scatter: 0.19829631890073718\n",
      "iteration: 22\n",
      " number of sim. evals so far: 802.0\n",
      "     sim. evals in this iter: 85\n",
      "         acceptance rate (%): 11.764705882352942\n",
      "                 new epsilon: 0.02630921913198083\n",
      "           KL sample scatter: 0.18525599694986292\n",
      "iteration: 23\n",
      " number of sim. evals so far: 863.0\n",
      "     sim. evals in this iter: 61\n",
      "         acceptance rate (%): 16.39344262295082\n",
      "                 new epsilon: 0.019764746501649545\n",
      "           KL sample scatter: 0.20776234976406396\n",
      "iteration: 24\n",
      " number of sim. evals so far: 1052.0\n",
      "     sim. evals in this iter: 189\n",
      "         acceptance rate (%): 5.291005291005291\n",
      "                 new epsilon: 0.013070090300913861\n",
      "           KL sample scatter: 0.2013529506280723\n",
      "iteration: 25\n",
      " number of sim. evals so far: 1362.0\n",
      "     sim. evals in this iter: 310\n",
      "         acceptance rate (%): 3.225806451612903\n",
      "                 new epsilon: 0.008832837877681854\n",
      "           KL sample scatter: 0.24607346880826284\n"
     ]
    }
   ],
   "source": [
    "# arrays for tracking iterations \n",
    "theta = np.empty([Niter, Ndraw])\n",
    "weights = np.empty([Niter, Ndraw])\n",
    "D = np.empty([Niter, Ndraw])\n",
    "# run ABC \n",
    "numberSimEvals2 = doABC(data, Niter, Ndraw, D, theta, weights, eps, accrate, simTot, sigmaTrue, True)"
   ]
  },
  {
   "cell_type": "code",
   "execution_count": 64,
   "metadata": {},
   "outputs": [
    {
     "data": {
      "image/png": "[encoded data removed]",
      "text/plain": [
       "<Figure size 720x540 with 6 Axes>"
      ]
     },
     "metadata": {
      "needs_background": "light"
     },
     "output_type": "display_data"
    }
   ],
   "source": [
    "plotABC(theta, weights, Niter, data, muTrue, sigmaTrue, accrate, simTot)"
   ]
  },
  {
   "cell_type": "markdown",
   "metadata": {
    "slideshow": {
     "slide_type": "slide"
    }
   },
   "source": [
    "\n",
    "For \"professional\" implementations of ABC as an open-source Python code see: \n",
    "\n",
    "***astroABC***, ***abcpmc***, and ***cosmoabc*** \n"
   ]
  }
 ],
 "metadata": {
  "anaconda-cloud": {},
  "celltoolbar": "Slideshow",
  "kernelspec": {
   "display_name": "python36",
   "language": "python",
   "name": "py36"
  },
  "language_info": {
   "codemirror_mode": {
    "name": "ipython",
    "version": 3
   },
   "file_extension": ".py",
   "mimetype": "text/x-python",
   "name": "python",
   "nbconvert_exporter": "python",
   "pygments_lexer": "ipython3",
   "version": "3.6.7"
  },
  "livereveal": {
   "scroll": true,
   "start_slideshow_at": "selected",
   "theme": "sky"
  }
 },
 "nbformat": 4,
 "nbformat_minor": 2
}
