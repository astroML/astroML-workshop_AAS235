{
 "cells": [
  {
   "cell_type": "markdown",
   "metadata": {},
   "source": [
    "## Deep Learning: Classifying Astronomical Images \n",
    "\n",
    "### January 6, 2020 \n",
    "\n",
    "\n",
    "[astroML workshop at the 235th Meeting of the American Astronomical Society](http://www.astroml.org/workshops/AAS235.html)\n",
    "\n",
    "[Andrew Connolly, University of Washington](http://faculty.washington.edu/ajc26/) \n",
    "\n",
    "[Tutorial Repository](https://github.com/astroML/astroML-workshop_AAS235)\n",
    "\n",
    "\n",
    "In this notebook we work through a simple example for a Neural Network using TensorFlow and the Keras interface. Initially we will start with a vanila network with two hidden layers and then expand this to a convolutional neural network with drop out layers and batch normalization"
   ]
  },
  {
   "cell_type": "markdown",
   "metadata": {},
   "source": [
    "Deep learning, an extension of the neural networks that were\n",
    "popularized in the 1990s. The concepts are inspired\n",
    "by the structure and function of the brain. A neuron in the brain is a\n",
    "core computational unit that takes a series of inputs from branched\n",
    "extensions of the neuron called dendrites, operates on these inputs,\n",
    "and generates an output that is transmitted along an axon to one or\n",
    "more other neurons. In the context of a neural network a neuron, $j$, takes a set of inputs,\n",
    "$x_i$, applies a, typically non-linear, function to these inputs and\n",
    "generates an output value. Networks are then created by connecting\n",
    "multiple neurons or layers of neurons to one another."
   ]
  },
  {
   "cell_type": "markdown",
   "metadata": {},
   "source": [
    "<img src=\"figures/fig_neural_network-1.png\">"
   ]
  },
  {
   "cell_type": "markdown",
   "metadata": {},
   "source": [
    "If we consider the simplified network\n",
    "inputs are passed to the neurons in the\n",
    "network. Each input is weighted by a value, $w_{ij}$ and the sum of\n",
    "these weighted inputs is operated on by a response or activation\n",
    "function $f(\\theta)$, which transform\n",
    "the input signal so that it varies between 0 and 1 through the\n",
    "application of a non-linear response. The output from any neuron is\n",
    "then given by,\n",
    "\n",
    "$$\n",
    "\\begin {equation}\n",
    "a_j =  f  \\left( \\sum_i w_{ij} x_i + b_j \\right)\n",
    "\\end{equation}\n",
    "$$\n",
    "\n",
    "where $b_j$ is a bias term determines the input level at which the\n",
    "neuron becomes activated."
   ]
  },
  {
   "cell_type": "markdown",
   "metadata": {},
   "source": [
    "We refer to the neurons between the inputs and the output layers as\n",
    "the hidden layers. If the neurons from one layer connect to all\n",
    "neurons in a subsequent layer we call this a fully connected layer.\n",
    "When the outputs from the neurons only connect to subsequent layers\n",
    "(i.e. the graph is acyclic) we refer to this as a feed-forward\n",
    "network.  In general the feed-forward network is the most common\n",
    "structure for a neural network used in classification. \n",
    "\n",
    "The final layer in the network is the output layer. As with the hidden\n",
    "layer, an activation function, $g(\\theta)$, in the output layer acts\n",
    "on the weighted sum of its inputs.  In this figure we have a single\n",
    "output node but there can be multiple outputs. For our example  network the\n",
    "output from the final neuron, $o_k$, would be given by\n",
    "\n",
    "$$\n",
    "\\begin {equation}\n",
    "o_k = g \\left( \\sum_j   w_{jk} a_j  + b_k \\right)  = g\\left( \\sum_j\n",
    "  w_{jk}  f \\left( \\sum_i w_{ij} x_i + b_j\\right) + b_k\\right)\n",
    "\\end{equation}\n",
    "$$\n",
    "\n"
   ]
  },
  {
   "cell_type": "code",
   "execution_count": null,
   "metadata": {},
   "outputs": [],
   "source": [
    "# to reduce the deprecation warnings\n",
    "import warnings\n",
    "warnings.filterwarnings(\"ignore\")"
   ]
  },
  {
   "cell_type": "code",
   "execution_count": null,
   "metadata": {},
   "outputs": [],
   "source": [
    "#check we have a GPU available\n",
    "from tensorflow.python.client import device_lib\n",
    "device_lib.list_local_devices()"
   ]
  },
  {
   "cell_type": "code",
   "execution_count": null,
   "metadata": {},
   "outputs": [],
   "source": [
    "import numpy as np\n",
    "import pandas as pd\n",
    "import matplotlib.pyplot as plt\n",
    "from astroML.utils import split_samples\n",
    "from tensorflow.keras.utils import to_categorical\n",
    "%matplotlib inline"
   ]
  },
  {
   "cell_type": "markdown",
   "metadata": {},
   "source": [
    "### Loading some visualization and helper functions"
   ]
  },
  {
   "cell_type": "code",
   "execution_count": null,
   "metadata": {},
   "outputs": [],
   "source": [
    "np.set_printoptions(precision=2)\n",
    "\n",
    "def normalize_image(image):\n",
    "    '''Rescale a stamp for CNN'''\n",
    "    sigmaG_coeff =  0.7413\n",
    "    image = image.reshape(21,21)\n",
    "    \n",
    "    per25,per50,per75 = np.percentile(image,[25,50,75])\n",
    "    sigmaG = sigmaG_coeff * (per75 - per25)\n",
    "    image[image<(per50-2*sigmaG)] = per50-2*sigmaG\n",
    "    image -= np.min(image)\n",
    "    image /= np.sum(image)\n",
    "    \n",
    "    return image\n",
    "    \n",
    "def plot_image_array(images, nrows=2, ncols=5, figsize=[8,4], nx=21, ny=21, title='', subtitle=False):\n",
    "    '''Plot an array of images'''\n",
    "    fig, ax = plt.subplots(nrows=nrows,ncols=ncols,figsize=figsize)\n",
    "    fig.subplots_adjust(hspace=0, left=0.07, right=0.95, wspace=0.05, bottom=0.15)\n",
    "    for indx in np.arange(nrows*ncols):\n",
    "        i = int(indx/ncols)\n",
    "        j = indx%ncols\n",
    "        if (i == 0):\n",
    "            ax[i][j].xaxis.set_major_formatter(plt.NullFormatter())\n",
    "        if (j != 0):\n",
    "            ax[i][j].yaxis.set_major_formatter(plt.NullFormatter())\n",
    "\n",
    "        ax[i][j].imshow(images[indx].reshape(nx,ny), cmap='gray')\n",
    "        if (subtitle == True):\n",
    "            ax[i][j].set_title('True Class: %i, Predicted Class: %i\\n  Prob Class 1 %e ' % \n",
    "              (np.argmax(class_true[indx]), np.argmax(classes[indx]), classes[indx,1]))\n",
    "\n",
    "    fig.suptitle(title)\n",
    "    ax[0][0].set_ylabel('$y$')\n",
    "    ax[nrows-1][int(ncols/2)].set_xlabel('$x$')            \n",
    "    \n",
    "from sklearn.metrics import confusion_matrix\n",
    "from sklearn.utils.multiclass import unique_labels\n",
    "\n",
    "def plot_confusion_matrix(y_true, y_pred, \n",
    "                          normalize=False,\n",
    "                          title=None,\n",
    "                          cmap=plt.cm.Blues):\n",
    "    \"\"\"\n",
    "    From scikit-learn: this function prints and plots the confusion matrix.\n",
    "    Normalization can be applied by setting `normalize=True`.\n",
    "    \"\"\"\n",
    "    if not title:\n",
    "        if normalize:\n",
    "            title = 'Normalized confusion matrix'\n",
    "        else:\n",
    "            title = 'Confusion matrix, without normalization'\n",
    "\n",
    "    # Compute confusion matrix\n",
    "    cm = confusion_matrix(y_true, y_pred)\n",
    "\n",
    "    if normalize:\n",
    "        cm = cm.astype('float') / cm.sum(axis=1)[:, np.newaxis]\n",
    "\n",
    "    fig, ax = plt.subplots()\n",
    "    im = ax.imshow(cm, interpolation='nearest', cmap=cmap)\n",
    "    ax.figure.colorbar(im, ax=ax)\n",
    "    # We want to show all ticks...\n",
    "    ax.set(xticks=np.arange(cm.shape[1]),\n",
    "           yticks=np.arange(cm.shape[0]),\n",
    "           # ... and label them with the respective list entries\n",
    "           title=title,\n",
    "           ylabel='True label',\n",
    "           xlabel='Predicted label')\n",
    "\n",
    "    # Rotate the tick labels and set their alignment.\n",
    "    plt.setp(ax.get_xticklabels(), rotation=45, ha=\"right\",\n",
    "             rotation_mode=\"anchor\")\n",
    "\n",
    "    # Loop over data dimensions and create text annotations.\n",
    "    fmt = '.2f' if normalize else 'd'\n",
    "    thresh = cm.max() / 2.\n",
    "    for i in range(cm.shape[0]):\n",
    "        for j in range(cm.shape[1]):\n",
    "            ax.text(j, i, format(cm[i, j], fmt),\n",
    "                    ha=\"center\", va=\"center\",\n",
    "                    color=\"white\" if cm[i, j] > thresh else \"black\")\n",
    "    fig.tight_layout()\n",
    "\n",
    "def plot_model_history(history):\n",
    "    '''Plot the training and validation history'''\n",
    "\n",
    "    loss = history.history['loss']\n",
    "    val_loss = history.history['val_loss']\n",
    "    acc = history.history['accuracy']\n",
    "    val_acc = history.history['val_accuracy']\n",
    "    \n",
    "    fig, ax = plt.subplots(nrows=1,ncols=2, figsize=(10,5))\n",
    "    ax[0].plot(np.arange(n_epochs), loss, label='Training Loss')\n",
    "    ax[0].plot(np.arange(n_epochs), val_loss, label='Validation Loss')\n",
    "    ax[0].set_title('Loss Curves')\n",
    "    ax[0].legend()\n",
    "    ax[0].set_xlabel('Epoch')\n",
    "    ax[0].set_ylabel('Loss')\n",
    "\n",
    "    ax[1].plot(np.arange(n_epochs), acc, label='Training Accuracy')\n",
    "    ax[1].plot(np.arange(n_epochs), val_acc, label='Validation Accuracy')\n",
    "    ax[1].set_title('Accuracy Curves')\n",
    "    ax[1].legend()\n",
    "    ax[1].set_xlabel('Epoch')\n",
    "    ax[1].set_ylabel('Accuracy')"
   ]
  },
  {
   "cell_type": "markdown",
   "metadata": {},
   "source": [
    "### Load the training samples and create test and validation data sets"
   ]
  },
  {
   "cell_type": "code",
   "execution_count": null,
   "metadata": {},
   "outputs": [],
   "source": [
    "import numpy as np\n",
    "import matplotlib.pyplot as plt\n",
    "\n",
    "#read in source and noise images\n",
    "path = './'\n",
    "rand_state = np.random.RandomState(777)\n",
    "sources = np.load(path+'data/stamps_sources.npz')\n",
    "noise = np.load(path+'data/stamps_noise.npz')\n",
    "\n",
    "point_source_stamps = []\n",
    "for image in sources['data']:\n",
    "    point_source_stamps.append(normalize_image(image))\n",
    "\n",
    "no_point_source_stamps = []\n",
    "for image in noise['data']:\n",
    "    no_point_source_stamps.append(normalize_image(image))"
   ]
  },
  {
   "cell_type": "code",
   "execution_count": null,
   "metadata": {},
   "outputs": [],
   "source": [
    "#plot sample of images\n",
    "plot_image_array(no_point_source_stamps, title='no sources')\n",
    "plot_image_array(point_source_stamps, title='sources')"
   ]
  },
  {
   "cell_type": "markdown",
   "metadata": {},
   "source": [
    "### Create a training, validation, and test sample\n",
    "\n",
    "We will use astroML's split_samples to do this"
   ]
  },
  {
   "cell_type": "code",
   "execution_count": null,
   "metadata": {},
   "outputs": [],
   "source": [
    "def reshape_arrays(data, labels):\n",
    "    '''reshape arrays for Keras'''\n",
    "    data = data.reshape(-1,21, 21, 1) \n",
    "    labels = to_categorical(labels)\n",
    "    return data,labels\n",
    "\n",
    "input_stamps = np.vstack([no_point_source_stamps, point_source_stamps])\n",
    "stamp_class = np.zeros(len(no_point_source_stamps) + len(point_source_stamps))\n",
    "stamp_class[len(no_point_source_stamps):] = 1 # 0 for noise, 1 for a star\n",
    "\n",
    "(data_train, data_val, data_test), (class_train, class_val, class_test) = split_samples(input_stamps, stamp_class, \n",
    "                                                                                        [0.7,0.1,0.2])\n",
    "data_train, class_train = reshape_arrays(data_train, class_train)\n",
    "data_val, class_val = reshape_arrays(data_val, class_val)\n",
    "data_test, class_test = reshape_arrays(data_test, class_test)\n",
    "\n",
    "print ('Number of samples in the training ({}); test ({}); and validation ({}) data sets'.format(data_train.shape[0], \n",
    "                                                                                    data_test.shape[0],\n",
    "                                                                                   data_val.shape[0]))"
   ]
  },
  {
   "cell_type": "markdown",
   "metadata": {},
   "source": [
    "## Neural Network Frameworks\n",
    "\n",
    "\n",
    "The development and release of open source deep learning libraries has\n",
    "made the use of deep neural networks accessible to a wide range of\n",
    "fields. Currently there are two common packages PyTorch (https://pytorch.org) and Tensorflow (https://www.tensorflow.org). Either code base can be utilized for the\n",
    "figures and problems in this book (and generally they have the same\n",
    "functionality). \n",
    "\n",
    "### TensorFlow:\n",
    "\n",
    "Tensorflow is the more established code base with a large community\n",
    "and a large number of tutorials (https://www.tensorflow.org/tutorials) and online courses. Its\n",
    "functionality is more developed than PyTorch with tools to visualize\n",
    "and inspect a network (e.g., see TensorBoard). On the other hand, the\n",
    "learning curve for PyTorch is generally considered to be easier than\n",
    "that for Tensorflow with PyTorch having a more natural object oriented\n",
    "interface for people used to writing Python code.\n",
    "\n",
    "### PyTorch\n",
    "\n",
    "The primary difference between TensorFlow and PyTorch is that the\n",
    "networks (or graphs) that Tensorflow generates are static while the\n",
    "networks for PyTorch are dynamic. This means that with PyTorch one can\n",
    "modify and adjust the network on-the-fly (e.g., making it easier to\n",
    "adjust for changes in the input dimensionality or number of input\n",
    "nodes within a network). This feature and the object-oriented design of\n",
    "PyTorch often results in fewer lines of code to achieve the same\n",
    "solution when compared to Tensorflow.\n",
    "\n",
    "What should you choose? Both frameworks are continuously evolving\n",
    "and advances in one (e.g., dynamic networks) are rapidly implemented\n",
    "in the other. In the end, the choice of deep learning library will\n",
    "likely come down to which one you find better fits your style of\n",
    "programming and learning.\n",
    "\n",
    "### Keras:  \n",
    "\n",
    "Keras is a high-level API written on top of TensorFlow (and its precursor Theano). It is written in Python and provides a simple and intuative interface when building neural networks. It is currently released as part of TensorFlow and we will using Keras in this tutorial."
   ]
  },
  {
   "cell_type": "markdown",
   "metadata": {},
   "source": [
    "### Building a network\n",
    "\n",
    "Define our model:\n",
    "- Create a sequential model (this means we add layers one-by-one as we see in our introductory figure)\n",
    "- Add a dense (fully connected) layer with 30 neurons \n",
    "  - **input_shape** tells the code the dimensionality of the input data to this first hidden layer\n",
    "  - **activation** tells the code that we will be using the 'relu' activation fuction\n",
    "- Add a second dense layer with 30 neurons\n",
    "- Flatten the outputs before we get to the output layer because we are connecting to a fully connected layer and want to multiply the inputs values by the weights (as a vector)\n",
    "- Later we will add a batch normalization layer:  model.add(tf.keras.layers.BatchNormalization(axis = 3, name = 'bn_1'))\n",
    "- Add an output layer using \"softmax\" (this means the activation values for each class sum to 1 so they can be treated like probabilities) with 2 nodes (_for our example we could have used a single output_)\n"
   ]
  },
  {
   "cell_type": "markdown",
   "metadata": {},
   "source": [
    "## Creating a Neural Network with Keras"
   ]
  },
  {
   "cell_type": "code",
   "execution_count": null,
   "metadata": {},
   "outputs": [],
   "source": [
    "import tensorflow as tf\n",
    "from tensorflow.keras.models import Sequential\n",
    "from tensorflow.keras.layers import Dense, Conv2D, Flatten, Activation\n",
    "from tensorflow.keras.utils import to_categorical\n",
    "import matplotlib.pyplot as plt\n",
    "\n",
    "import numpy as np\n",
    "def simple(input_shape=(21, 21, 1), n_classes: int = 2):\n",
    "\n",
    "    model = tf.keras.models.Sequential(name='simple')\n",
    "\n",
    "    # input: 21x21 images with 1 channel -> (21, 21, 1) tensors.\n",
    "    model.add(tf.keras.layers.Dense(30, input_shape=input_shape, activation='relu', name='fc_1'))\n",
    "        \n",
    "    model.add(tf.keras.layers.Dense(30, activation='relu', name='fc_2'))\n",
    "\n",
    "    # output layer\n",
    "    model.add(tf.keras.layers.Flatten())\n",
    "    activation = 'sigmoid' if n_classes == 1 else 'softmax'\n",
    "    model.add(tf.keras.layers.Dense(n_classes, activation=activation, name='fc_out'))\n",
    "\n",
    "    return model"
   ]
  },
  {
   "cell_type": "code",
   "execution_count": 9,
   "metadata": {},
   "outputs": [
    {
     "name": "stdout",
     "output_type": "stream",
     "text": [
      "Model: \"simple\"\n",
      "_________________________________________________________________\n",
      "Layer (type)                 Output Shape              Param #   \n",
      "=================================================================\n",
      "fc_1 (Dense)                 (None, 21, 21, 30)        60        \n",
      "_________________________________________________________________\n",
      "fc_2 (Dense)                 (None, 21, 21, 30)        930       \n",
      "_________________________________________________________________\n",
      "flatten (Flatten)            (None, 13230)             0         \n",
      "_________________________________________________________________\n",
      "fc_out (Dense)               (None, 2)                 26462     \n",
      "=================================================================\n",
      "Total params: 27,452\n",
      "Trainable params: 27,452\n",
      "Non-trainable params: 0\n",
      "_________________________________________________________________\n"
     ]
    }
   ],
   "source": [
    "simple_model = simple()\n",
    "simple_model.summary()"
   ]
  },
  {
   "cell_type": "code",
   "execution_count": 10,
   "metadata": {},
   "outputs": [
    {
     "name": "stdout",
     "output_type": "stream",
     "text": [
      "Train on 42000 samples, validate on 5999 samples\n",
      "Epoch 1/20\n",
      "42000/42000 [==============================] - 4s 99us/sample - loss: 0.6931 - accuracy: 0.5059 - val_loss: 0.6931 - val_accuracy: 0.5016\n",
      "Epoch 2/20\n",
      "42000/42000 [==============================] - 2s 56us/sample - loss: 0.6930 - accuracy: 0.5205 - val_loss: 0.6930 - val_accuracy: 0.5318\n",
      "Epoch 3/20\n",
      "42000/42000 [==============================] - 3s 65us/sample - loss: 0.6930 - accuracy: 0.5186 - val_loss: 0.6930 - val_accuracy: 0.5031\n",
      "Epoch 4/20\n",
      "42000/42000 [==============================] - 3s 75us/sample - loss: 0.6930 - accuracy: 0.5129 - val_loss: 0.6929 - val_accuracy: 0.5031\n",
      "Epoch 5/20\n",
      "42000/42000 [==============================] - 3s 75us/sample - loss: 0.6929 - accuracy: 0.5136 - val_loss: 0.6929 - val_accuracy: 0.5031\n",
      "Epoch 6/20\n",
      "42000/42000 [==============================] - 2s 51us/sample - loss: 0.6929 - accuracy: 0.5495 - val_loss: 0.6929 - val_accuracy: 0.5076\n",
      "Epoch 7/20\n",
      "42000/42000 [==============================] - 2s 55us/sample - loss: 0.6929 - accuracy: 0.5203 - val_loss: 0.6929 - val_accuracy: 0.4969\n",
      "Epoch 8/20\n",
      "42000/42000 [==============================] - 2s 54us/sample - loss: 0.6928 - accuracy: 0.5109 - val_loss: 0.6928 - val_accuracy: 0.4971\n",
      "Epoch 9/20\n",
      "42000/42000 [==============================] - 2s 53us/sample - loss: 0.6928 - accuracy: 0.5437 - val_loss: 0.6928 - val_accuracy: 0.4969\n",
      "Epoch 10/20\n",
      "42000/42000 [==============================] - 2s 58us/sample - loss: 0.6928 - accuracy: 0.5291 - val_loss: 0.6928 - val_accuracy: 0.4969\n",
      "Epoch 11/20\n",
      "42000/42000 [==============================] - 2s 59us/sample - loss: 0.6927 - accuracy: 0.5205 - val_loss: 0.6927 - val_accuracy: 0.5031\n",
      "Epoch 12/20\n",
      "42000/42000 [==============================] - 2s 56us/sample - loss: 0.6927 - accuracy: 0.5494 - val_loss: 0.6926 - val_accuracy: 0.5164\n",
      "Epoch 13/20\n",
      "42000/42000 [==============================] - 2s 54us/sample - loss: 0.6926 - accuracy: 0.5623 - val_loss: 0.6926 - val_accuracy: 0.5501\n",
      "Epoch 14/20\n",
      "42000/42000 [==============================] - 2s 52us/sample - loss: 0.6926 - accuracy: 0.5668 - val_loss: 0.6926 - val_accuracy: 0.5431\n",
      "Epoch 15/20\n",
      "42000/42000 [==============================] - 2s 54us/sample - loss: 0.6925 - accuracy: 0.5725 - val_loss: 0.6925 - val_accuracy: 0.4972\n",
      "Epoch 16/20\n",
      "42000/42000 [==============================] - 2s 56us/sample - loss: 0.6925 - accuracy: 0.5680 - val_loss: 0.6924 - val_accuracy: 0.8168\n",
      "Epoch 17/20\n",
      "42000/42000 [==============================] - 2s 56us/sample - loss: 0.6924 - accuracy: 0.6115 - val_loss: 0.6924 - val_accuracy: 0.5319\n",
      "Epoch 18/20\n",
      "42000/42000 [==============================] - 3s 62us/sample - loss: 0.6924 - accuracy: 0.5595 - val_loss: 0.6924 - val_accuracy: 0.5453\n",
      "Epoch 19/20\n",
      "42000/42000 [==============================] - 3s 67us/sample - loss: 0.6923 - accuracy: 0.5517 - val_loss: 0.6923 - val_accuracy: 0.5033\n",
      "Epoch 20/20\n",
      "42000/42000 [==============================] - 2s 56us/sample - loss: 0.6923 - accuracy: 0.5969 - val_loss: 0.6922 - val_accuracy: 0.5246\n"
     ]
    }
   ],
   "source": [
    "n_epochs=20\n",
    "simple_model.compile(loss='categorical_crossentropy', optimizer='sgd', metrics=['accuracy'])\n",
    "simple_model_history = simple_model.fit(data_train, class_train, epochs=n_epochs, batch_size=128, verbose=1, \n",
    "                                        validation_data=(data_val, class_val), shuffle=True)"
   ]
  },
  {
   "cell_type": "code",
   "execution_count": null,
   "metadata": {},
   "outputs": [],
   "source": [
    "#Explain mini batch"
   ]
  },
  {
   "cell_type": "code",
   "execution_count": 11,
   "metadata": {},
   "outputs": [
    {
     "data": {
      "image/png": "[encoded data removed]",
      "text/plain": [
       "<Figure size 432x288 with 2 Axes>"
      ]
     },
     "metadata": {
      "needs_background": "light"
     },
     "output_type": "display_data"
    }
   ],
   "source": [
    "classes = simple_model.predict(data_test)\n",
    "plot_confusion_matrix(np.argmax(class_test,axis=1), np.argmax(classes,axis=1), normalize=True,\n",
    "                      title='Normalized confusion matrix')"
   ]
  },
  {
   "cell_type": "code",
   "execution_count": 12,
   "metadata": {},
   "outputs": [
    {
     "data": {
      "image/png": "[encoded data removed]",
      "text/plain": [
       "<Figure size 720x360 with 2 Axes>"
      ]
     },
     "metadata": {
      "needs_background": "light"
     },
     "output_type": "display_data"
    }
   ],
   "source": [
    "plot_model_history(simple_model_history)"
   ]
  },
  {
   "cell_type": "markdown",
   "metadata": {},
   "source": [
    "### Batch normalization\n",
    "\n",
    "Our first optimization over the vanila NN. Batch normalization scales the activations from a layer (note we normalized the input data) to have zero mean and unit variance. In reality, the two parameters gamma (for the standard deviation) and beta (for the mean) are learned by the network and the activations multiplied/added by these parameters. Batch normalization provides a degree of regularization and allows for faster learning rates as the outputs are constrained to 0-1 (i.e. you dont get large excursions in the weights of subsequent layers in a network that need to be reoptimized/trained). \n",
    "\n",
    "The normalization is applied to mini-batches of training data (as opposed to using the full training sample)"
   ]
  },
  {
   "cell_type": "code",
   "execution_count": 13,
   "metadata": {},
   "outputs": [],
   "source": [
    "def simple(input_shape=(21, 21, 1), n_classes: int = 2):\n",
    "\n",
    "    model = tf.keras.models.Sequential(name='simple')\n",
    "\n",
    "    # input: 21x21 images with 1 channel -> (21, 21, 1) tensors.\n",
    "    model.add(tf.keras.layers.Dense(30, input_shape=input_shape, activation='relu', name='fc_1'))\n",
    "        \n",
    "    model.add(tf.keras.layers.BatchNormalization(axis = 3, name = 'bn_1'))  ### remove this line and add it back\n",
    "\n",
    "    model.add(tf.keras.layers.Dense(30, activation='relu', name='fc_2'))\n",
    "\n",
    "    # output layer\n",
    "    model.add(tf.keras.layers.Flatten())\n",
    "    activation = 'sigmoid' if n_classes == 1 else 'softmax'\n",
    "    model.add(tf.keras.layers.Dense(n_classes, activation=activation, name='fc_out'))\n",
    "\n",
    "    return model"
   ]
  },
  {
   "cell_type": "code",
   "execution_count": 14,
   "metadata": {},
   "outputs": [
    {
     "name": "stdout",
     "output_type": "stream",
     "text": [
      "Train on 42000 samples, validate on 5999 samples\n",
      "Epoch 1/20\n",
      "42000/42000 [==============================] - 8s 184us/sample - loss: 0.6739 - accuracy: 0.7502 - val_loss: 0.6859 - val_accuracy: 0.5086\n",
      "Epoch 2/20\n",
      "42000/42000 [==============================] - 2s 55us/sample - loss: 0.5876 - accuracy: 0.8329 - val_loss: 0.5613 - val_accuracy: 0.7865\n",
      "Epoch 3/20\n",
      "42000/42000 [==============================] - 2s 58us/sample - loss: 0.4257 - accuracy: 0.8639 - val_loss: 0.3564 - val_accuracy: 0.8831\n",
      "Epoch 4/20\n",
      "42000/42000 [==============================] - 2s 57us/sample - loss: 0.3099 - accuracy: 0.8941 - val_loss: 0.2832 - val_accuracy: 0.8725\n",
      "Epoch 5/20\n",
      "42000/42000 [==============================] - 3s 61us/sample - loss: 0.2485 - accuracy: 0.9128 - val_loss: 0.2192 - val_accuracy: 0.9248\n",
      "Epoch 6/20\n",
      "42000/42000 [==============================] - 3s 61us/sample - loss: 0.2121 - accuracy: 0.9245 - val_loss: 0.2042 - val_accuracy: 0.9363\n",
      "Epoch 7/20\n",
      "42000/42000 [==============================] - 2s 57us/sample - loss: 0.1888 - accuracy: 0.9316 - val_loss: 0.1700 - val_accuracy: 0.9405\n",
      "Epoch 8/20\n",
      "42000/42000 [==============================] - 2s 55us/sample - loss: 0.1731 - accuracy: 0.9362 - val_loss: 0.1771 - val_accuracy: 0.9178\n",
      "Epoch 9/20\n",
      "42000/42000 [==============================] - 2s 58us/sample - loss: 0.1625 - accuracy: 0.9384 - val_loss: 0.1486 - val_accuracy: 0.9425\n",
      "Epoch 10/20\n",
      "42000/42000 [==============================] - 2s 58us/sample - loss: 0.1542 - accuracy: 0.9411 - val_loss: 0.1477 - val_accuracy: 0.9385\n",
      "Epoch 11/20\n",
      "42000/42000 [==============================] - 2s 58us/sample - loss: 0.1476 - accuracy: 0.9428 - val_loss: 0.1428 - val_accuracy: 0.9463\n",
      "Epoch 12/20\n",
      "42000/42000 [==============================] - 3s 62us/sample - loss: 0.1423 - accuracy: 0.9441 - val_loss: 0.1373 - val_accuracy: 0.9438\n",
      "Epoch 13/20\n",
      "42000/42000 [==============================] - 2s 57us/sample - loss: 0.1377 - accuracy: 0.9450 - val_loss: 0.1784 - val_accuracy: 0.9150\n",
      "Epoch 14/20\n",
      "42000/42000 [==============================] - 2s 57us/sample - loss: 0.1341 - accuracy: 0.9470 - val_loss: 0.1297 - val_accuracy: 0.9472\n",
      "Epoch 15/20\n",
      "42000/42000 [==============================] - 2s 57us/sample - loss: 0.1307 - accuracy: 0.9473 - val_loss: 0.1255 - val_accuracy: 0.9495\n",
      "Epoch 16/20\n",
      "42000/42000 [==============================] - 2s 54us/sample - loss: 0.1275 - accuracy: 0.9491 - val_loss: 0.1194 - val_accuracy: 0.9542\n",
      "Epoch 17/20\n",
      "42000/42000 [==============================] - 2s 55us/sample - loss: 0.1246 - accuracy: 0.9494 - val_loss: 0.1680 - val_accuracy: 0.9213\n",
      "Epoch 18/20\n",
      "42000/42000 [==============================] - 2s 56us/sample - loss: 0.1228 - accuracy: 0.9499 - val_loss: 0.1363 - val_accuracy: 0.9487\n",
      "Epoch 19/20\n",
      "42000/42000 [==============================] - 2s 58us/sample - loss: 0.1199 - accuracy: 0.9522 - val_loss: 0.1172 - val_accuracy: 0.9532\n",
      "Epoch 20/20\n",
      "42000/42000 [==============================] - 2s 57us/sample - loss: 0.1180 - accuracy: 0.9528 - val_loss: 0.1134 - val_accuracy: 0.9543\n"
     ]
    }
   ],
   "source": [
    "n_epochs=20\n",
    "simple_model = simple()\n",
    "simple_model.compile(loss='categorical_crossentropy', optimizer='sgd', metrics=['accuracy'])\n",
    "simple_model_history = simple_model.fit(data_train, class_train, epochs=n_epochs, batch_size=128, verbose=1, \n",
    "                                        validation_data=(data_val, class_val), shuffle=True)\n",
    "classes = simple_model.predict(data_test)"
   ]
  },
  {
   "cell_type": "code",
   "execution_count": 15,
   "metadata": {},
   "outputs": [
    {
     "data": {
      "image/png": "[encoded data removed]",
      "text/plain": [
       "<Figure size 432x288 with 2 Axes>"
      ]
     },
     "metadata": {
      "needs_background": "light"
     },
     "output_type": "display_data"
    }
   ],
   "source": [
    "# Plot normalized confusion matrix\n",
    "plot_confusion_matrix(np.argmax(class_test,axis=1), np.argmax(classes,axis=1), normalize=True,\n",
    "                      title='Normalized confusion matrix')\n",
    "\n",
    "plt.show()"
   ]
  },
  {
   "cell_type": "code",
   "execution_count": 16,
   "metadata": {},
   "outputs": [
    {
     "data": {
      "image/png": "[encoded data removed]",
      "text/plain": [
       "<Figure size 720x360 with 2 Axes>"
      ]
     },
     "metadata": {
      "needs_background": "light"
     },
     "output_type": "display_data"
    }
   ],
   "source": [
    "plot_model_history(simple_model_history)"
   ]
  },
  {
   "cell_type": "code",
   "execution_count": 17,
   "metadata": {},
   "outputs": [],
   "source": [
    "# Discuss batch normalization and its importance\n",
    "# discuss drop out layers and its importance when talking about vgg6"
   ]
  },
  {
   "cell_type": "markdown",
   "metadata": {},
   "source": [
    "### Convolutional Networks\n",
    "\n",
    "\n",
    "Convolutional Neural Networks or\n",
    "CNNs are networks designed to work with images or with any regularly\n",
    "sampled dataset. CNNs reduce the complexity of the network by\n",
    "requiring that neurons only respond to inputs from a subset of an\n",
    "image (the receptive field). This mimics the operation of the visual\n",
    "cortex where neurons only respond to a small part of the\n",
    "field-of-view.\n",
    "\n",
    "There are four principal components to a CNN:\n",
    "- a convolutional layer,\n",
    "- a non-linear activation function,\n",
    "- a pooling or downsampling operation, and\n",
    "- a fully connected layer for classification.\n",
    "\n",
    "Dependent on the complexity of the network or structure of the data,\n",
    "these components can occur singularly or chained together in multiple\n",
    "sequences. "
   ]
  },
  {
   "cell_type": "markdown",
   "metadata": {},
   "source": [
    "<img src=\"figures/fig_cnn_1.png\">"
   ]
  },
  {
   "cell_type": "markdown",
   "metadata": {},
   "source": [
    "\n",
    "**Convolution** in a CNN refers to the convolution  of the input data\n",
    "$I(x,y)$ with a kernel $K(x,y)$ which will produce a feature map $F(x,y)$\n",
    "\n",
    "\\begin{equation}\n",
    "F(x,y) = K(x,y) * I(x,y)  = \\sum_{x_0} \\sum_{y_0} I(x-x_0, y-y_0) K(x_0, y_0).\n",
    "\\end{equation}\n",
    "\n",
    "The kernel only responds to pixels within its receptive field (i.e.,\n",
    "the size of the kernel), reducing the computational complexity of the\n",
    "resulting network. The kernels in the convolution are described by a\n",
    "depth (the number of kernels, $K$ applied to the image), and a stride\n",
    "(how many pixels a kernel shifts at each step in the convolution;\n",
    "typically one).  Given an $N\\times M$ image, the result of the\n",
    "convolution step is to transform a single image into a data cube of\n",
    "feature maps with a dimension $N \\times M \\times K$.\n",
    "\n",
    "Once learned the kernels within the convolutional layer often appears\n",
    "as physically intuitive operations on the images \n",
    "such as edge detection filters.\n",
    "\n",
    "\n",
    "As with traditional neural networks, a non-linear activation function\n",
    "is applied to the individual pixels in the resulting feature\n",
    "maps. \n",
    "\n",
    "\n",
    "The **pooling** in the CNN downsamples or subsamples the feature maps. Pooling summarizes values within a region\n",
    "of interest (e.g., a 2x2 pixel window). The summary can be the average\n",
    "pixel value but more commonly the maximum pixel value is preserved\n",
    "(Max Pooling) in the downsampling. This pooling of the feature maps\n",
    "reduces the size of the resulting network and makes the network less\n",
    "sensitive to small translations or distortions between images.\n",
    "\n",
    "\n",
    "\n",
    "The final layer of a CNN is the classification layer which maps the\n",
    "output of the CNN to a set of labels. This is typically a fully\n",
    "connected layer where each output\n",
    "of the final pooling layer connects to all neurons in the\n",
    "classification layer. \n"
   ]
  },
  {
   "cell_type": "markdown",
   "metadata": {},
   "source": [
    "### Training the network\n",
    "\n",
    "\n",
    "\n",
    "Training a neural network is conceptually simple. Given a labelled set\n",
    "of data and a loss function, we need to optimize\n",
    "the weights and biases within the network by minimizing the loss.  A solution for training large\n",
    "networks\n",
    "uses backpropagation to efficiently estimate the gradient of the loss\n",
    "function with respect\n",
    "to the weights and biases.\n",
    "\n",
    "If the loss function can be expressed in terms of a sum\n",
    "over subsets of the training data (e.g., as is the case for the\n",
    "L2 norm) the training can be undertaken either for the dataset as a\n",
    "whole, for subsets of the data (batch learning), or for individual\n",
    "entries (on-line or stochastic learning).\n"
   ]
  },
  {
   "cell_type": "markdown",
   "metadata": {},
   "source": [
    "### CNNs: Increasing the complexity of the architecture with VGG6"
   ]
  },
  {
   "cell_type": "code",
   "execution_count": 18,
   "metadata": {},
   "outputs": [],
   "source": [
    "import tensorflow as tf\n",
    "from tensorflow.keras.models import Sequential\n",
    "from tensorflow.keras.layers import Dense, Conv2D, Flatten\n",
    "from tensorflow.keras.utils import to_categorical\n",
    "import matplotlib.pyplot as plt\n",
    "\n",
    "import numpy as np\n",
    "def vgg6(input_shape=(21, 21, 1), n_classes: int = 2):\n",
    "    \"\"\"\n",
    "        VGG6\n",
    "    :param input_shape:\n",
    "    :param n_classes:\n",
    "    :return:\n",
    "    \"\"\"\n",
    "\n",
    "    model = tf.keras.models.Sequential(name='VGG6')\n",
    "    # input: 21x21 images with 1 channel -> (21, 21, 1) tensors.\n",
    "    # this applies 16 convolution filters of size 3x3 each.\n",
    "    model.add(tf.keras.layers.Conv2D(16, (3, 3), activation='relu', input_shape=input_shape, name='conv1'))\n",
    "    model.add(tf.keras.layers.Conv2D(16, (3, 3), activation='relu', name='conv2'))\n",
    "    model.add(tf.keras.layers.BatchNormalization(axis = 3, name = 'bn_1'))\n",
    "    model.add(tf.keras.layers.MaxPooling2D(pool_size=(2, 2)))\n",
    "    model.add(tf.keras.layers.Dropout(0.5))\n",
    "\n",
    "    model.add(tf.keras.layers.Conv2D(32, (3, 3), activation='relu', name='conv3'))\n",
    "    model.add(tf.keras.layers.Conv2D(32, (3, 3), activation='relu', name='conv4'))\n",
    "    model.add(tf.keras.layers.BatchNormalization(axis = 3, name = 'bn_2'))\n",
    "    model.add(tf.keras.layers.MaxPooling2D(pool_size=(4, 4)))\n",
    "    model.add(tf.keras.layers.Dropout(0.5))\n",
    "\n",
    "    model.add(tf.keras.layers.Flatten())\n",
    "\n",
    "    model.add(tf.keras.layers.Dense(256, activation='relu', name='fc_1'))\n",
    "    model.add(tf.keras.layers.Dropout(0.5))\n",
    "    # output layer\n",
    "    activation = 'sigmoid' if n_classes == 1 else 'softmax'\n",
    "    model.add(tf.keras.layers.Dense(n_classes, activation=activation, name='fc_out'))\n",
    "\n",
    "    return model"
   ]
  },
  {
   "cell_type": "code",
   "execution_count": 19,
   "metadata": {},
   "outputs": [],
   "source": [
    "#explain input shapes and why it is needed/important\n",
    "#view a kernel filter - look for this\n",
    "#explain dropouts\n",
    "#why multiple batch normalization\n",
    "# does the variation in the loss for the validation set tell me about the uncertainty in the classifier"
   ]
  },
  {
   "cell_type": "code",
   "execution_count": 20,
   "metadata": {},
   "outputs": [
    {
     "name": "stdout",
     "output_type": "stream",
     "text": [
      "Model: \"VGG6\"\n",
      "_________________________________________________________________\n",
      "Layer (type)                 Output Shape              Param #   \n",
      "=================================================================\n",
      "conv1 (Conv2D)               (None, 19, 19, 16)        160       \n",
      "_________________________________________________________________\n",
      "conv2 (Conv2D)               (None, 17, 17, 16)        2320      \n",
      "_________________________________________________________________\n",
      "bn_1 (BatchNormalization)    (None, 17, 17, 16)        64        \n",
      "_________________________________________________________________\n",
      "max_pooling2d (MaxPooling2D) (None, 8, 8, 16)          0         \n",
      "_________________________________________________________________\n",
      "dropout (Dropout)            (None, 8, 8, 16)          0         \n",
      "_________________________________________________________________\n",
      "conv3 (Conv2D)               (None, 6, 6, 32)          4640      \n",
      "_________________________________________________________________\n",
      "conv4 (Conv2D)               (None, 4, 4, 32)          9248      \n",
      "_________________________________________________________________\n",
      "bn_2 (BatchNormalization)    (None, 4, 4, 32)          128       \n",
      "_________________________________________________________________\n",
      "max_pooling2d_1 (MaxPooling2 (None, 1, 1, 32)          0         \n",
      "_________________________________________________________________\n",
      "dropout_1 (Dropout)          (None, 1, 1, 32)          0         \n",
      "_________________________________________________________________\n",
      "flatten_3 (Flatten)          (None, 32)                0         \n",
      "_________________________________________________________________\n",
      "fc_1 (Dense)                 (None, 256)               8448      \n",
      "_________________________________________________________________\n",
      "dropout_2 (Dropout)          (None, 256)               0         \n",
      "_________________________________________________________________\n",
      "fc_out (Dense)               (None, 2)                 514       \n",
      "=================================================================\n",
      "Total params: 25,522\n",
      "Trainable params: 25,426\n",
      "Non-trainable params: 96\n",
      "_________________________________________________________________\n",
      "Train on 42000 samples, validate on 5999 samples\n",
      "Epoch 1/50\n",
      "42000/42000 - 4s - loss: 0.5600 - accuracy: 0.7061 - val_loss: 1.0696 - val_accuracy: 0.5031\n",
      "Epoch 2/50\n",
      "42000/42000 - 3s - loss: 0.4009 - accuracy: 0.8168 - val_loss: 0.4241 - val_accuracy: 0.7745\n",
      "Epoch 3/50\n",
      "42000/42000 - 3s - loss: 0.3606 - accuracy: 0.8389 - val_loss: 3.4431 - val_accuracy: 0.5414\n",
      "Epoch 4/50\n",
      "42000/42000 - 3s - loss: 0.3279 - accuracy: 0.8518 - val_loss: 3.0903 - val_accuracy: 0.5203\n",
      "Epoch 5/50\n",
      "42000/42000 - 3s - loss: 0.3013 - accuracy: 0.8653 - val_loss: 5.3691 - val_accuracy: 0.5031\n",
      "Epoch 6/50\n",
      "42000/42000 - 2s - loss: 0.3403 - accuracy: 0.8494 - val_loss: 12.8529 - val_accuracy: 0.5031\n",
      "Epoch 7/50\n",
      "42000/42000 - 3s - loss: 0.5117 - accuracy: 0.7822 - val_loss: 4.9213 - val_accuracy: 0.5031\n",
      "Epoch 8/50\n",
      "42000/42000 - 3s - loss: 0.3666 - accuracy: 0.8372 - val_loss: 1.2000 - val_accuracy: 0.6013\n",
      "Epoch 9/50\n",
      "42000/42000 - 3s - loss: 0.3279 - accuracy: 0.8555 - val_loss: 1.6232 - val_accuracy: 0.5971\n",
      "Epoch 10/50\n",
      "42000/42000 - 3s - loss: 0.3058 - accuracy: 0.8633 - val_loss: 0.4380 - val_accuracy: 0.8208\n",
      "Epoch 11/50\n",
      "42000/42000 - 3s - loss: 0.2821 - accuracy: 0.8761 - val_loss: 0.4814 - val_accuracy: 0.8475\n",
      "Epoch 12/50\n",
      "42000/42000 - 3s - loss: 0.2590 - accuracy: 0.8868 - val_loss: 1.2978 - val_accuracy: 0.5031\n",
      "Epoch 13/50\n",
      "42000/42000 - 3s - loss: 0.2345 - accuracy: 0.8982 - val_loss: 0.3869 - val_accuracy: 0.8030\n",
      "Epoch 14/50\n",
      "42000/42000 - 3s - loss: 0.2110 - accuracy: 0.9099 - val_loss: 0.3101 - val_accuracy: 0.8953\n",
      "Epoch 15/50\n",
      "42000/42000 - 3s - loss: 0.1924 - accuracy: 0.9217 - val_loss: 0.6169 - val_accuracy: 0.5954\n",
      "Epoch 16/50\n",
      "42000/42000 - 3s - loss: 0.1797 - accuracy: 0.9299 - val_loss: 0.1405 - val_accuracy: 0.9342\n",
      "Epoch 17/50\n",
      "42000/42000 - 3s - loss: 0.1660 - accuracy: 0.9350 - val_loss: 0.3842 - val_accuracy: 0.8328\n",
      "Epoch 18/50\n",
      "42000/42000 - 3s - loss: 0.1580 - accuracy: 0.9387 - val_loss: 0.6119 - val_accuracy: 0.8121\n",
      "Epoch 19/50\n",
      "42000/42000 - 3s - loss: 0.1470 - accuracy: 0.9431 - val_loss: 0.0746 - val_accuracy: 0.9733\n",
      "Epoch 20/50\n",
      "42000/42000 - 3s - loss: 0.1422 - accuracy: 0.9469 - val_loss: 0.0696 - val_accuracy: 0.9788\n",
      "Epoch 21/50\n",
      "42000/42000 - 3s - loss: 0.1311 - accuracy: 0.9511 - val_loss: 0.4081 - val_accuracy: 0.7933\n",
      "Epoch 22/50\n",
      "42000/42000 - 3s - loss: 0.1297 - accuracy: 0.9509 - val_loss: 0.3923 - val_accuracy: 0.8580\n",
      "Epoch 23/50\n",
      "42000/42000 - 3s - loss: 0.1284 - accuracy: 0.9525 - val_loss: 0.2100 - val_accuracy: 0.9008\n",
      "Epoch 24/50\n",
      "42000/42000 - 3s - loss: 0.1227 - accuracy: 0.9526 - val_loss: 0.0642 - val_accuracy: 0.9748\n",
      "Epoch 25/50\n",
      "42000/42000 - 3s - loss: 0.1199 - accuracy: 0.9548 - val_loss: 0.0912 - val_accuracy: 0.9723\n",
      "Epoch 26/50\n",
      "42000/42000 - 3s - loss: 0.1182 - accuracy: 0.9569 - val_loss: 0.5022 - val_accuracy: 0.8323\n",
      "Epoch 27/50\n",
      "42000/42000 - 3s - loss: 0.1130 - accuracy: 0.9587 - val_loss: 1.2259 - val_accuracy: 0.7211\n",
      "Epoch 28/50\n",
      "42000/42000 - 3s - loss: 0.1084 - accuracy: 0.9598 - val_loss: 0.1261 - val_accuracy: 0.9458\n",
      "Epoch 29/50\n",
      "42000/42000 - 3s - loss: 0.1049 - accuracy: 0.9607 - val_loss: 0.1112 - val_accuracy: 0.9547\n",
      "Epoch 30/50\n",
      "42000/42000 - 3s - loss: 0.1063 - accuracy: 0.9621 - val_loss: 1.6487 - val_accuracy: 0.5926\n",
      "Epoch 31/50\n",
      "42000/42000 - 3s - loss: 0.1059 - accuracy: 0.9605 - val_loss: 0.1105 - val_accuracy: 0.9538\n",
      "Epoch 32/50\n",
      "42000/42000 - 3s - loss: 0.1002 - accuracy: 0.9631 - val_loss: 0.0542 - val_accuracy: 0.9773\n",
      "Epoch 33/50\n",
      "42000/42000 - 3s - loss: 0.1002 - accuracy: 0.9633 - val_loss: 0.2615 - val_accuracy: 0.8921\n",
      "Epoch 34/50\n",
      "42000/42000 - 3s - loss: 0.0976 - accuracy: 0.9636 - val_loss: 0.1806 - val_accuracy: 0.9183\n",
      "Epoch 35/50\n",
      "42000/42000 - 3s - loss: 0.1000 - accuracy: 0.9628 - val_loss: 0.1032 - val_accuracy: 0.9518\n",
      "Epoch 36/50\n",
      "42000/42000 - 3s - loss: 0.0939 - accuracy: 0.9668 - val_loss: 1.1667 - val_accuracy: 0.7288\n",
      "Epoch 37/50\n",
      "42000/42000 - 5s - loss: 0.0939 - accuracy: 0.9664 - val_loss: 0.2240 - val_accuracy: 0.9033\n",
      "Epoch 38/50\n",
      "42000/42000 - 3s - loss: 0.0888 - accuracy: 0.9679 - val_loss: 0.0320 - val_accuracy: 0.9890\n",
      "Epoch 39/50\n",
      "42000/42000 - 3s - loss: 0.0906 - accuracy: 0.9661 - val_loss: 0.4381 - val_accuracy: 0.8325\n",
      "Epoch 40/50\n",
      "42000/42000 - 3s - loss: 0.0926 - accuracy: 0.9656 - val_loss: 0.7494 - val_accuracy: 0.7040\n",
      "Epoch 41/50\n",
      "42000/42000 - 3s - loss: 0.0917 - accuracy: 0.9663 - val_loss: 0.1810 - val_accuracy: 0.9240\n",
      "Epoch 42/50\n",
      "42000/42000 - 3s - loss: 0.0815 - accuracy: 0.9712 - val_loss: 0.3193 - val_accuracy: 0.8678\n",
      "Epoch 43/50\n",
      "42000/42000 - 2s - loss: 0.0867 - accuracy: 0.9682 - val_loss: 0.0394 - val_accuracy: 0.9845\n",
      "Epoch 44/50\n",
      "42000/42000 - 2s - loss: 0.0879 - accuracy: 0.9681 - val_loss: 0.5293 - val_accuracy: 0.8096\n",
      "Epoch 45/50\n",
      "42000/42000 - 3s - loss: 0.0842 - accuracy: 0.9701 - val_loss: 0.1017 - val_accuracy: 0.9555\n",
      "Epoch 46/50\n",
      "42000/42000 - 3s - loss: 0.0841 - accuracy: 0.9698 - val_loss: 0.4689 - val_accuracy: 0.8375\n",
      "Epoch 47/50\n",
      "42000/42000 - 3s - loss: 0.0809 - accuracy: 0.9702 - val_loss: 0.5884 - val_accuracy: 0.8241\n",
      "Epoch 48/50\n",
      "42000/42000 - 3s - loss: 0.0824 - accuracy: 0.9692 - val_loss: 0.1023 - val_accuracy: 0.9517\n",
      "Epoch 49/50\n",
      "42000/42000 - 3s - loss: 0.0798 - accuracy: 0.9713 - val_loss: 0.0281 - val_accuracy: 0.9900\n",
      "Epoch 50/50\n",
      "42000/42000 - 3s - loss: 0.0823 - accuracy: 0.9701 - val_loss: 1.1505 - val_accuracy: 0.6649\n"
     ]
    }
   ],
   "source": [
    "vgg_model = vgg6()\n",
    "vgg_model.compile(loss='categorical_crossentropy', optimizer='sgd', metrics=['accuracy'])\n",
    "n_epochs=50\n",
    "vgg_model.summary()\n",
    "vgg_model_history = vgg_model.fit(data_train, class_train, epochs=n_epochs, batch_size=128, verbose=2, \n",
    "                                  validation_data=(data_val, class_val), shuffle=True)"
   ]
  },
  {
   "cell_type": "code",
   "execution_count": 21,
   "metadata": {},
   "outputs": [
    {
     "data": {
      "image/png": "[encoded data removed]",
      "text/plain": [
       "<Figure size 432x288 with 2 Axes>"
      ]
     },
     "metadata": {
      "needs_background": "light"
     },
     "output_type": "display_data"
    }
   ],
   "source": [
    "classes = vgg_model.predict(data_test)\n",
    "plot_confusion_matrix(np.argmax(class_test,axis=1), np.argmax(classes,axis=1), normalize=True,\n",
    "                      title='Normalized confusion matrix')"
   ]
  },
  {
   "cell_type": "code",
   "execution_count": 22,
   "metadata": {},
   "outputs": [
    {
     "data": {
      "image/png": "[encoded data removed]",
      "text/plain": [
       "<Figure size 720x360 with 2 Axes>"
      ]
     },
     "metadata": {
      "needs_background": "light"
     },
     "output_type": "display_data"
    }
   ],
   "source": [
    "plot_model_history(vgg_model.history)"
   ]
  },
  {
   "cell_type": "code",
   "execution_count": null,
   "metadata": {},
   "outputs": [],
   "source": [
    "i=0\n",
    "plot_image_array(data_val, figsize=[16,10], subtitle=True)"
   ]
  },
  {
   "cell_type": "markdown",
   "metadata": {},
   "source": [
    "### Interpreting networks: how many layers and how many neurons?\n",
    "\n",
    "The number of layers, number of neurons in a layer, and the\n",
    "connectivity of these layers is typically described as the network\n",
    "architecture.  \n",
    "\n",
    "\n",
    "Approaches to defining a network\n",
    "architecture become more trial and error than applying an underlying\n",
    "set of principles. For a starting point, however, there are relatively\n",
    "few problems that benefit significantly from more than two layers and\n",
    "we recommend starting with a single layer when training an initial\n",
    "network and using cross-validation to determine when additional layers\n",
    "lead result in the data being overfit.\n",
    "\n",
    "As with the number of layers, the number of neurons within a layer\n",
    "drives the computational cost (and requiring progressively larger\n",
    "training sets to avoid overfitting of the data). There are many\n",
    "proposals for rules of thumb for defining a network architecture:\n",
    "- the number of neurons should lie between the number of inputs and output nodes\n",
    "- the number of neurons should be equal to the number of outputs plus 2/3rd the number input nodes.\n",
    "- the number of neurons in the hidden layer should be less than twice the size of the input layers\n"
   ]
  },
  {
   "cell_type": "code",
   "execution_count": null,
   "metadata": {},
   "outputs": [],
   "source": [
    "#occlusion maps"
   ]
  },
  {
   "cell_type": "code",
   "execution_count": null,
   "metadata": {},
   "outputs": [],
   "source": []
  },
  {
   "cell_type": "markdown",
   "metadata": {},
   "source": [
    "### Occulsion Maps"
   ]
  },
  {
   "cell_type": "code",
   "execution_count": null,
   "metadata": {},
   "outputs": [],
   "source": [
    "model = vgg_model\n",
    "image_number = 0\n",
    "\n",
    "kernel_size=3\n",
    "input_stamp = data_test[image_number].reshape(21,21)\n",
    "i = 0\n",
    "j=0\n",
    "heatmap = []\n",
    "keras_stamps = []\n",
    "for j in range(22-kernel_size):\n",
    "    for i in range(22-kernel_size):\n",
    "        img = np.copy(input_stamp)\n",
    "        img[i:i+kernel_size,j:j+kernel_size] = 0\n",
    "        img = normalize_image(img)\n",
    "        keras_stamps.append(img)\n",
    "keras_stamps = np.array(keras_stamps).reshape([-1,21,21,1])\n",
    "probs = 1.-model.predict(keras_stamps)\n",
    "heatmap = probs[:,1]\n",
    "\n",
    "def transparent_cmap(cmap, N=255):\n",
    "    \"Copy colormap and set alpha values\"\n",
    "    mycmap = cmap\n",
    "    mycmap._init()\n",
    "    mycmap._lut[:,-1] = np.linspace(0, 0.8, N+4)\n",
    "    return mycmap\n",
    "\n",
    "#Use base cmap to create transparent\n",
    "mycmap = transparent_cmap(plt.cm.Greens)\n",
    "\n",
    "fig, ax = plt.subplots(nrows=1,ncols=1)\n",
    "ax.imshow(data_test[image_number].reshape(21,21), cmap='gray')\n",
    "ax.imshow(np.array(heatmap).reshape(22-kernel_size,22-kernel_size), alpha=0.5, cmap=mycmap)\n",
    "\n",
    "print (heatmap.reshape(22-kernel_size,22-kernel_size).shape,data_test[image_number].shape)\n",
    "#fig.colorbar()"
   ]
  },
  {
   "cell_type": "code",
   "execution_count": null,
   "metadata": {},
   "outputs": [],
   "source": [
    "# Utility to search for layer index by name. \n",
    "# Alternatively we can specify this as -1 since it corresponds to the last layer.\n",
    "from vis.utils import utils\n",
    "from tensorflow.keras import activations\n",
    "\n",
    "model = vgg_model\n",
    "layer_idx = utils.find_layer_idx(model, 'fc_out')\n",
    "\n",
    "# Swap softmax with linear\n",
    "model.layers[layer_idx].activation = activations.linear\n",
    "model = utils.apply_modifications(model)\n",
    "\n",
    "#generating saliency map with unguided backprop\n",
    "grads1 = visualize_saliency(model, layer_idx,filter_indices=None,seed_input=image)\n",
    "#plotting the unguided saliency map\n",
    "plt.imshow(grads1,cmap='jet')"
   ]
  },
  {
   "cell_type": "code",
   "execution_count": null,
   "metadata": {},
   "outputs": [],
   "source": [
    "model.layers[-1].activation"
   ]
  },
  {
   "cell_type": "markdown",
   "metadata": {},
   "source": [
    "### More complicated architectures: resnet50"
   ]
  },
  {
   "cell_type": "code",
   "execution_count": null,
   "metadata": {},
   "outputs": [],
   "source": [
    "# Based on https://github.com/priya-dwivedi/Deep-Learning/blob/master/resnet_keras/Residual_Networks_yourself.ipynb\n",
    "import numpy as np\n",
    "import tensorflow as tf\n",
    "from tensorflow.keras.layers import Input, Add, Dense, Activation, ZeroPadding2D, BatchNormalization, Flatten, Conv2D, AveragePooling2D, MaxPooling2D, GlobalMaxPooling2D\n",
    "from tensorflow.keras.initializers import glorot_uniform\n",
    "from tensorflow.keras.models import Model, load_model\n",
    "from tensorflow.keras.utils import to_categorical\n",
    "import tensorflow.keras.backend as K\n",
    "K.set_image_data_format('channels_last')\n",
    "def identity_block(X, f, filters, stage, block):\n",
    "    \"\"\"\n",
    "    Implementation of the identity block as defined in Figure 3\n",
    "    \n",
    "    Arguments:\n",
    "    X -- input tensor of shape (m, n_H_prev, n_W_prev, n_C_prev)\n",
    "    f -- integer, specifying the shape of the middle CONV's window for the main path\n",
    "    filters -- python list of integers, defining the number of filters in the CONV layers of the main path\n",
    "    stage -- integer, used to name the layers, depending on their position in the network\n",
    "    block -- string/character, used to name the layers, depending on their position in the network\n",
    "    \n",
    "    Returns:\n",
    "    X -- output of the identity block, tensor of shape (n_H, n_W, n_C)\n",
    "    \"\"\"\n",
    "    \n",
    "    # defining name basis\n",
    "    conv_name_base = 'res' + str(stage) + block + '_branch'\n",
    "    bn_name_base = 'bn' + str(stage) + block + '_branch'\n",
    "    \n",
    "    # Retrieve Filters\n",
    "    F1, F2, F3 = filters\n",
    "    \n",
    "    # Save the input value. You'll need this later to add back to the main path. \n",
    "    X_shortcut = X\n",
    "    \n",
    "    # First component of main path\n",
    "    X = Conv2D(filters = F1, kernel_size = (1, 1), strides = (1,1), padding = 'valid', name = conv_name_base + '2a', kernel_initializer = glorot_uniform(seed=0))(X)\n",
    "    X = BatchNormalization(axis = 3, name = bn_name_base + '2a')(X)\n",
    "    X = Activation('relu')(X)\n",
    "\n",
    "    \n",
    "    # Second component of main path (≈3 lines)\n",
    "    X = Conv2D(filters = F2, kernel_size = (f, f), strides = (1,1), padding = 'same', name = conv_name_base + '2b', kernel_initializer = glorot_uniform(seed=0))(X)\n",
    "    X = BatchNormalization(axis = 3, name = bn_name_base + '2b')(X)\n",
    "    X = Activation('relu')(X)\n",
    "\n",
    "    # Third component of main path (≈2 lines)\n",
    "    X = Conv2D(filters = F3, kernel_size = (1, 1), strides = (1,1), padding = 'valid', name = conv_name_base + '2c', kernel_initializer = glorot_uniform(seed=0))(X)\n",
    "    X = BatchNormalization(axis = 3, name = bn_name_base + '2c')(X)\n",
    "\n",
    "    # Final step: Add shortcut value to main path, and pass it through a RELU activation (≈2 lines)\n",
    "    X = Add()([X, X_shortcut])\n",
    "    X = Activation('relu')(X)\n",
    "    \n",
    "    return X\n",
    "\n",
    "def convolutional_block(X, f, filters, stage, block, s = 2):\n",
    "    \"\"\"\n",
    "    Implementation of the convolutional block as defined in Figure 4\n",
    "    \n",
    "    Arguments:\n",
    "    X -- input tensor of shape (m, n_H_prev, n_W_prev, n_C_prev)\n",
    "    f -- integer, specifying the shape of the middle CONV's window for the main path\n",
    "    filters -- python list of integers, defining the number of filters in the CONV layers of the main path\n",
    "    stage -- integer, used to name the layers, depending on their position in the network\n",
    "    block -- string/character, used to name the layers, depending on their position in the network\n",
    "    s -- Integer, specifying the stride to be used\n",
    "    \n",
    "    Returns:\n",
    "    X -- output of the convolutional block, tensor of shape (n_H, n_W, n_C)\n",
    "    \"\"\"\n",
    "    \n",
    "    # defining name basis\n",
    "    conv_name_base = 'res' + str(stage) + block + '_branch'\n",
    "    bn_name_base = 'bn' + str(stage) + block + '_branch'\n",
    "    \n",
    "    # Retrieve Filters\n",
    "    F1, F2, F3 = filters\n",
    "    \n",
    "    # Save the input value\n",
    "    X_shortcut = X\n",
    "\n",
    "\n",
    "    ##### MAIN PATH #####\n",
    "    # First component of main path \n",
    "    X = Conv2D(F1, (1, 1), strides = (s,s), name = conv_name_base + '2a', kernel_initializer = glorot_uniform(seed=0))(X)\n",
    "    X = BatchNormalization(axis = 3, name = bn_name_base + '2a')(X)\n",
    "    X = Activation('relu')(X)\n",
    "\n",
    "    # Second component of main path (≈3 lines)\n",
    "    X = Conv2D(filters = F2, kernel_size = (f, f), strides = (1,1), padding = 'same', name = conv_name_base + '2b', kernel_initializer = glorot_uniform(seed=0))(X)\n",
    "    X = BatchNormalization(axis = 3, name = bn_name_base + '2b')(X)\n",
    "    X = Activation('relu')(X)\n",
    "\n",
    "\n",
    "    # Third component of main path (≈2 lines)\n",
    "    X = Conv2D(filters = F3, kernel_size = (1, 1), strides = (1,1), padding = 'valid', name = conv_name_base + '2c', kernel_initializer = glorot_uniform(seed=0))(X)\n",
    "    X = BatchNormalization(axis = 3, name = bn_name_base + '2c')(X)\n",
    "\n",
    "\n",
    "    ##### SHORTCUT PATH #### (≈2 lines)\n",
    "    X_shortcut = Conv2D(filters = F3, kernel_size = (1, 1), strides = (s,s), padding = 'valid', name = conv_name_base + '1',\n",
    "                        kernel_initializer = glorot_uniform(seed=0))(X_shortcut)\n",
    "    X_shortcut = BatchNormalization(axis = 3, name = bn_name_base + '1')(X_shortcut)\n",
    "\n",
    "    # Final step: Add shortcut value to main path, and pass it through a RELU activation (≈2 lines)\n",
    "    X = Add()([X, X_shortcut])\n",
    "    X = Activation('relu')(X)\n",
    "    \n",
    "    \n",
    "    return X\n",
    "\n",
    "def ResNet50(input_shape=(21, 21, 1), classes=2):\n",
    "    \"\"\"\n",
    "    Implementation of the popular ResNet50 the following architecture:\n",
    "    CONV2D -> BATCHNORM -> RELU -> MAXPOOL -> CONVBLOCK -> IDBLOCK*2 -> CONVBLOCK -> IDBLOCK*3\n",
    "    -> CONVBLOCK -> IDBLOCK*5 -> CONVBLOCK -> IDBLOCK*2 -> AVGPOOL -> TOPLAYER\n",
    "\n",
    "    Arguments:\n",
    "    input_shape -- shape of the images of the dataset\n",
    "    classes -- integer, number of classes\n",
    "\n",
    "    Returns:\n",
    "    model -- a Model() instance in Keras\n",
    "    \"\"\"\n",
    "\n",
    "    # Define the input as a tensor with shape input_shape\n",
    "    X_input = Input(input_shape)\n",
    "\n",
    "    # Zero-Padding\n",
    "    X = ZeroPadding2D((3, 3))(X_input)\n",
    "\n",
    "    # Stage 1\n",
    "    X = Conv2D(64, (7, 7), strides=(2, 2), name='conv1', kernel_initializer=glorot_uniform(seed=0))(X)\n",
    "    X = BatchNormalization(axis=3, name='bn_conv1')(X)\n",
    "    X = Activation('relu')(X)\n",
    "    X = MaxPooling2D((3, 3), strides=(2, 2))(X)\n",
    "\n",
    "    # Stage 2\n",
    "    X = convolutional_block(X, f=3, filters=[64, 64, 256], stage=2, block='a', s=1)\n",
    "    X = identity_block(X, 3, [64, 64, 256], stage=2, block='b')\n",
    "    X = identity_block(X, 3, [64, 64, 256], stage=2, block='c')\n",
    "\n",
    "    ### START CODE HERE ###\n",
    "\n",
    "    # Stage 3 (≈4 lines)\n",
    "    X = convolutional_block(X, f = 3, filters = [128, 128, 512], stage = 3, block='a', s = 2)\n",
    "    X = identity_block(X, 3, [128, 128, 512], stage=3, block='b')\n",
    "    X = identity_block(X, 3, [128, 128, 512], stage=3, block='c')\n",
    "    X = identity_block(X, 3, [128, 128, 512], stage=3, block='d')\n",
    "\n",
    "    # Stage 4 (≈6 lines)\n",
    "    X = convolutional_block(X, f = 3, filters = [256, 256, 1024], stage = 4, block='a', s = 2)\n",
    "    X = identity_block(X, 3, [256, 256, 1024], stage=4, block='b')\n",
    "    X = identity_block(X, 3, [256, 256, 1024], stage=4, block='c')\n",
    "    X = identity_block(X, 3, [256, 256, 1024], stage=4, block='d')\n",
    "    X = identity_block(X, 3, [256, 256, 1024], stage=4, block='e')\n",
    "    X = identity_block(X, 3, [256, 256, 1024], stage=4, block='f')\n",
    "\n",
    "    # Stage 5 (≈3 lines)\n",
    "    X = convolutional_block(X, f = 3, filters = [512, 512, 2048], stage = 5, block='a', s = 2)\n",
    "    X = identity_block(X, 3, [512, 512, 2048], stage=5, block='b')\n",
    "    X = identity_block(X, 3, [512, 512, 2048], stage=5, block='c')\n",
    "\n",
    "    # AVGPOOL (≈1 line). Use \"X = AveragePooling2D(...)(X)\"\n",
    "    #X = AveragePooling2D((2,2), name=\"avg_pool\")(X)\n",
    "\n",
    "    ### END CODE HERE ###\n",
    "\n",
    "    # output layer\n",
    "    X = Flatten()(X)\n",
    "    X = Dense(classes, activation='softmax', name='fc' + str(classes), kernel_initializer = glorot_uniform(seed=0))(X)\n",
    "    \n",
    "    \n",
    "    # Create model\n",
    "    model = Model(inputs = X_input, outputs = X, name='ResNet50')\n",
    "\n",
    "    return model"
   ]
  },
  {
   "cell_type": "code",
   "execution_count": null,
   "metadata": {},
   "outputs": [],
   "source": [
    "resnet50_model = ResNet50()\n",
    "resnet50_model.compile(loss='categorical_crossentropy', optimizer='sgd', metrics=['accuracy'])\n",
    "n_epochs=5\n",
    "resnet_model_history = resnet50_model.fit(data_train, class_train, epochs=n_epochs, batch_size=256, verbose=1, \n",
    "                                          validation_data=(data_val, class_val), shuffle=True)"
   ]
  }
 ],
 "metadata": {
  "kernelspec": {
   "display_name": "Python 3.7 (Andy)",
   "language": "python",
   "name": "py37"
  },
  "language_info": {
   "codemirror_mode": {
    "name": "ipython",
    "version": 3
   },
   "file_extension": ".py",
   "mimetype": "text/x-python",
   "name": "python",
   "nbconvert_exporter": "python",
   "pygments_lexer": "ipython3",
   "version": "3.7.5"
  }
 },
 "nbformat": 4,
 "nbformat_minor": 4
}
