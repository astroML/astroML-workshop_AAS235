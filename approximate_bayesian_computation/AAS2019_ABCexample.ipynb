{
 "cells": [
  {
   "cell_type": "markdown",
   "metadata": {
    "slideshow": {
     "slide_type": "slide"
    }
   },
   "source": [
    "# Approximate Bayesian Computation Example\n",
    "### January 6, 2020 \n",
    "\n",
    "\n",
    "[astroML workshop at the 235th Meeting of the American Astronomical Society](http://www.astroml.org/workshops/AAS235.html)\n",
    "\n",
    "[Zeljko Ivezic, University of Washington](http://faculty.washington.edu/ivezic/) \n",
    "\n",
    "[This notebook](https://github.com/astroML/astroML-workshop_AAS235/blob/master/bayesian/AAS2019_ABCexample.ipynb)"
   ]
  },
  {
   "cell_type": "markdown",
   "metadata": {
    "slideshow": {
     "slide_type": "slide"
    }
   },
   "source": [
    "## Approximate Bayesian Computation\n",
    "\n",
    "Astronomical models are often intrinsically stochastic even when modeling data with negligible measurement errors. \n",
    "\n",
    "Good examples include simulations of the temperature map of the cosmic microwave background (CMB), of the large-scale structure of a galaxy, and of mass and luminosity distributions for stars and galaxies. In such cases it is hard and often impossible to explicitly write down the data likelihood. "
   ]
  },
  {
   "cell_type": "markdown",
   "metadata": {
    "slideshow": {
     "slide_type": "subslide"
    }
   },
   "source": [
    "## Approximate Bayesian Computation\n",
    "\n",
    "When a simulation is stochastic, one often attempts to vary its input parameters until some adequate metric is well matched between the observed and simulated datasets (e.g., the CMB angular power spectrum, or a parametrized form of the luminosity function). \n",
    "\n",
    "With the aid of Approximate Bayesian computation (ABC), this tuning process can be made less ad hoc and much more efficient. An excellent tutorial is Turner & Van Zandt (2012, Journal of Mathematical Psychology 56, 69–85). "
   ]
  },
  {
   "cell_type": "markdown",
   "metadata": {
    "slideshow": {
     "slide_type": "subslide"
    }
   },
   "source": [
    "## Approximate Bayesian Computation\n",
    "\n",
    "\n",
    "The basic idea of ABC is quite simple: produce a large number of models (simulations) by sampling the plausible (prior) values of input parameters and select those that look like the data. \n",
    "\n",
    "The distribution of input parameters for the selected subset then approximates the true posterior pdf. \n",
    "\n",
    "And then repeat until reaching some pre-defined agreement between the values of a distance metric computed with real and simulated data sets. "
   ]
  },
  {
   "cell_type": "markdown",
   "metadata": {
    "slideshow": {
     "slide_type": "slide"
    }
   },
   "source": [
    "We will consider here a simple example of a 1-dimensional gaussian sample with a known std. deviation. We will use ABC to constrain its location parameter: $\\mu$ in $N(\\mu, \\sigma)$. \n",
    "\n",
    "This toy example is trivial - we already know that *the sample mean is the best estimator of the location parameter*. Nevertheless, the structure of more complex examples is identical: only the sample simulator, and perhaps distance metric need to be changed. For example, we could have a simulator of the distribution of galaxies on the sky and use two-point correlation function as a metric, or a simulator of the star formation process that generates luminosities of stars and use luminosity function to construct the distance metric. \n"
   ]
  },
  {
   "cell_type": "markdown",
   "metadata": {
    "slideshow": {
     "slide_type": "slide"
    }
   },
   "source": [
    "\n",
    "## ABC algorithm: \n",
    "\n",
    "Let's assume that data are described by vector $\\{x_i\\}$, that we have a simulator for producing a model outcome (simulated data vector $\\{y_i\\}$) given a vector of input parameters $\\theta$, and that their prior distribution, p$_0(\\theta)$, is known. \n",
    "\n",
    "In the first iteration, input parameters $\\theta$ are repeatedly sampled from the prior until the simulated dataset $\\{y_i\\}$ agrees with the data $\\{x_i\\}$, using some distance metric, and within some initial tolerance\n",
    "$\\epsilon$ (which can be very large). "
   ]
  },
  {
   "cell_type": "markdown",
   "metadata": {
    "slideshow": {
     "slide_type": "subslide"
    }
   },
   "source": [
    "\n",
    "## ABC algorithm: \n",
    "\n",
    "This sampling is repeated an arbitrary number of times to generate a set of values of desired size (e.g., to estimate precisely its posterior pdf, including higher moments, if needed). \n",
    "\n",
    "In every subsequent iteration j, the set of parameter values is improved through incremental approximations to the true posterior distribution. "
   ]
  },
  {
   "cell_type": "markdown",
   "metadata": {
    "slideshow": {
     "slide_type": "subslide"
    }
   },
   "source": [
    "\n",
    "## ABC algorithm: \n",
    "\n",
    "Just as in the first iteration, new input parameter values are repeatedly drawn from p$_j(\\theta_j)$ until \n",
    "## $$ D(\\{x_i\\}|\\{y_i\\}) < \\epsilon_j$$\n",
    "is satisfied. "
   ]
  },
  {
   "cell_type": "markdown",
   "metadata": {
    "slideshow": {
     "slide_type": "subslide"
    }
   },
   "source": [
    "## ABC algorithm: \n",
    "\n",
    "p$_j(\\theta_j)$ is generated using the $\\theta$ values from the previous iteration in a step akin to MCMC, which\n",
    "effectively selects \"particles\" from the previous weighted pool, and then perturbs them using the kernel K. \n",
    "\n",
    "In each iteration, the threshold value $\\epsilon_j$ decreases; it is typically taken as a value in the \n",
    "70\\%–90\\% range of the cumulative distribution of $D(\\{x_i\\}|\\{y_i\\})$ in the previous iteration. \n",
    "This sampling algorithm is called *Population Monte Carlo ABC*. \n",
    " \n"
   ]
  },
  {
   "cell_type": "markdown",
   "metadata": {
    "slideshow": {
     "slide_type": "slide"
    }
   },
   "source": [
    "\n",
    "The ABC method typically relies on a low-dimensional summary statistic of the data, S(x), such as the sample mean, rather than the full data set. For example, the distance metric between $\\{x_i\\}$ and $\\{y_i\\}$ is often defined as\n",
    "\n",
    "$$ D(\\{x_i\\}|\\{y_i\\}) = D(S(x)|S(y))  = |\\, {\\rm mean}(x) − {\\rm mean}(y) \\,|.$$\n",
    "\n",
    "Another example of a distance metric would be $\\chi^2$ between two luminosity functions (data vs. simulation), or two two-point correlation functions. \n",
    "\n",
    "When $S(x)$ is a sufficient statistic, ABC converges to the true posterior. "
   ]
  },
  {
   "cell_type": "markdown",
   "metadata": {
    "slideshow": {
     "slide_type": "subslide"
    }
   },
   "source": [
    "In summary, the two key ABC aspects are the use of low-dimensional summary statistics of the data (instead of data likelihood) and MCMC-like intelligent parameter optimization. \n",
    "  \n",
    "The following code is modeled after  Figure 5.29 from the book: \n",
    "https://www.astroml.org/book_figures/chapter5/fig_ABCexample.html\n"
   ]
  },
  {
   "cell_type": "code",
   "execution_count": 1,
   "metadata": {},
   "outputs": [],
   "source": [
    "import numpy as np\n",
    "from matplotlib import pyplot as plt\n",
    "from scipy.stats import norm"
   ]
  },
  {
   "cell_type": "code",
   "execution_count": 2,
   "metadata": {},
   "outputs": [],
   "source": [
    "### ABC tools \n",
    "\n",
    "# return the gaussian kernel values\n",
    "def kernelValues(prevThetas, prevStdDev, currentTheta):\n",
    "    return norm(currentTheta, prevStdDev).pdf(prevThetas)\n",
    "\n",
    "# return new values, scattered around an old value using gaussian kernel\n",
    "def kernelSample(theta, stdDev, Nsample=1):\n",
    "    # returns 1-D array of length N\n",
    "    return np.random.normal(theta, stdDev, Nsample)\n",
    "\n",
    "# compute new weight\n",
    "def computeWeight(prevWeights, prevThetas, prevStdDev, currentTheta):\n",
    "    denom = prevWeights * kernelValues(prevThetas, prevStdDev, currentTheta)\n",
    "    return prior(prevThetas) / np.sum(denom)\n",
    "\n",
    "# flat prior probability\n",
    "def prior(allThetas):\n",
    "    return 1.0 / np.size(allThetas)\n",
    "\n",
    "# kernel scale \n",
    "def KLscatter(x, w, N):\n",
    "    sample = weightedResample(x, N, w)\n",
    "    # this optimal scale for the kernel was derived by minimizing \n",
    "    # the Kullback-Leibler divergence\n",
    "    return np.sqrt(2) * np.std(sample)\n",
    "\n",
    "def weightedResample(x, N, weights):\n",
    "    # resample N elements from x with replacement, with selection \n",
    "    # probabilties proportional to provided weights\n",
    "    p = weights / np.sum(weights)\n",
    "    # returns 1-D array of length N\n",
    "    return np.random.choice(x, size=N, replace=True, p=p)"
   ]
  },
  {
   "cell_type": "code",
   "execution_count": 3,
   "metadata": {},
   "outputs": [],
   "source": [
    "# ABC distance metric \n",
    "def distance(x, y):\n",
    "    return np.abs(np.mean(x) - np.mean(y))"
   ]
  },
  {
   "cell_type": "code",
   "execution_count": 4,
   "metadata": {},
   "outputs": [],
   "source": [
    "# ABC iterator \n",
    "def doABC(data, Niter, Ndraw, D, theta, weights, eps, accrate, simTot, sigmaTrue, verbose=False):\n",
    "    ssTot = 0\n",
    "    Ndata = np.size(data)\n",
    "    \n",
    "    ## first sample from uniform prior, draw samples and compute their distance to data\n",
    "    for i in range(0, Ndraw):\n",
    "        thetaS = np.random.uniform(thetaMin, thetaMax)\n",
    "        sample = simulateData(Ndata, thetaS, sigmaTrue)\n",
    "        D[0][i] = distance(data, sample)\n",
    "        theta[0][i] = thetaS\n",
    "\n",
    "    weights[0] = 1.0 / Ndraw\n",
    "    scatter = KLscatter(theta[0], weights[0], Ndraw)\n",
    "    eps[0] = np.percentile(D[0], 50)\n",
    "    \n",
    "    ## continue with ABC iterations of theta \n",
    "    for j in range(1, Niter):\n",
    "        print('iteration:', j)\n",
    "        thetaOld = theta\n",
    "        weightsOld = weights / np.sum(weights)\n",
    "        # sample until distance condition fullfilled\n",
    "        ss = 0\n",
    "        for i in range(0, Ndraw):\n",
    "            notdone = True\n",
    "            # sample repeatedly until meeting the distance threshold Ndraw times\n",
    "            while notdone:\n",
    "                ss += 1\n",
    "                ssTot += 1\n",
    "                # sample from previous theta with probability given by weights: thetaS\n",
    "                # nb: weightedResample returns a 1-D array of length 1\n",
    "                thetaS = weightedResample(theta[j-1], 1, weights[j-1])[0]\n",
    "                # perturb thetaS with kernel\n",
    "                # nb: kernelSample returns a 1-D array of length 1\n",
    "                thetaSS = kernelSample(thetaS, scatter)[0]\n",
    "                # generate a simulated sample\n",
    "                sample = simulateData(Ndata, thetaSS, sigmaTrue)\n",
    "                # and check the distance threshold \n",
    "                dist = distance(data, sample)\n",
    "                if (dist < eps[j-1]):\n",
    "                    # met the goal, another acceptable value!\n",
    "                    notdone = False\n",
    "            # new accepted parameter value \n",
    "            theta[j][i] = thetaSS\n",
    "            D[j][i] = dist\n",
    "            # get weight for new theta\n",
    "            weights[j][i] = computeWeight(weights[j-1], theta[j-1], scatter, thetaSS)\n",
    "        # collected Ndraw values in this iteration, now \n",
    "        # update the kernel scatter value using new values \n",
    "        scatter = KLscatter(theta[j], weights[j], Ndraw)\n",
    "        # threshold for next iteration \n",
    "        eps[j] = np.percentile(D[j], DpercCut)\n",
    "        accrate[j] = 100.0*Ndraw/ss\n",
    "        simTot[j] = ssTot\n",
    "        if (verbose):\n",
    "            print(' number of sim. evals so far:', simTot[j])\n",
    "            print('     sim. evals in this iter:', ss)\n",
    "            print('         acceptance rate (%):', accrate[j])\n",
    "            print('                 new epsilon:', eps[j])\n",
    "            print('           KL sample scatter:', scatter)\n",
    "    return ssTot     "
   ]
  },
  {
   "cell_type": "code",
   "execution_count": 5,
   "metadata": {},
   "outputs": [],
   "source": [
    "def plotABC(theta, weights, Niter, data, muTrue, sigTrue, accrate, simTot):\n",
    "\n",
    "    Nresample = 100000\n",
    "    Ndata = np.size(data)\n",
    "    xmean = np.mean(data)\n",
    "    sigPosterior = sigTrue / np.sqrt(Ndata)\n",
    "    truedist = norm(xmean, sigPosterior)\n",
    "    x = np.linspace(-10, 10, 1000)\n",
    "    for j in range(0, Niter):\n",
    "        meanT[j] = np.mean(theta[j])\n",
    "        stdT[j] = np.std(theta[j])\n",
    "\n",
    "    # plot\n",
    "    fig = plt.figure(figsize=(10, 7.5))\n",
    "    fig.subplots_adjust(left=0.1, right=0.95, wspace=0.24,\n",
    "                        bottom=0.1, top=0.95)\n",
    "\n",
    "    # last few iterations\n",
    "    ax1 = fig.add_axes((0.55, 0.1, 0.35, 0.38))\n",
    "    ax1.set_xlabel(r'$\\mu$')\n",
    "    ax1.set_ylabel(r'$p(\\mu)$')\n",
    "    ax1.set_xlim(1.0, 3.0)\n",
    "    ax1.set_ylim(0, 2.5)\n",
    "    for j in [15, 20, 25]:\n",
    "        sample = weightedResample(theta[j], Nresample, weights[j])\n",
    "        ax1.hist(sample, 20, normed=True, histtype='stepfilled',\n",
    "                 alpha=0.9-(0.04*(j-15)))\n",
    "    ax1.plot(x, truedist.pdf(x), 'r')\n",
    "    ax1.text(1.12, 2.25, 'Iter: 15, 20, 25', style='italic',\n",
    "        bbox={'facecolor': 'red', 'alpha': 0.5, 'pad': 10})\n",
    "\n",
    "\n",
    "    # first few iterations\n",
    "    ax2 = fig.add_axes((0.1, 0.1, 0.35, 0.38))\n",
    "    ax2.set_xlabel(r'$\\mu$')\n",
    "    ax2.set_ylabel(r'$p(\\mu)$')\n",
    "    ax2.set_xlim(-4.0, 8.0)\n",
    "    ax2.set_ylim(0, 0.5)\n",
    "    for j in [2, 4, 6]:\n",
    "        sample = weightedResample(theta[j], Nresample, weights[j])\n",
    "        ax2.hist(sample, 20, normed=True, histtype='stepfilled',\n",
    "                 alpha=(0.9-0.1*(j-2)))\n",
    "    ax2.text(-3.2, 0.45, 'Iter: 2, 4, 6', style='italic',\n",
    "        bbox={'facecolor': 'red', 'alpha': 0.5, 'pad': 10})\n",
    "\n",
    "\n",
    "    # mean and scatter vs. iteration number\n",
    "    ax3 = fig.add_axes((0.55, 0.60, 0.35, 0.38))\n",
    "    ax3.set_xlabel('iteration')\n",
    "    ax3.set_ylabel(r'$<\\mu> \\pm \\, \\sigma_\\mu$')\n",
    "    ax3.set_xlim(0, Niter)\n",
    "    ax3.set_ylim(0, 4)\n",
    "    iter = np.linspace(1, Niter, Niter)\n",
    "    meanTm = meanT - stdT\n",
    "    meanTp = meanT + stdT\n",
    "    ax3.plot(iter, meanTm)\n",
    "    ax3.plot(iter, meanTp)\n",
    "    ax3.plot([0, Niter], [xmean, xmean], ls=\"--\", c=\"r\", lw=1)\n",
    "\n",
    "    # data\n",
    "    ax4 = fig.add_axes((0.1, 0.60, 0.35, 0.38))\n",
    "    ax4.set_xlabel(r'$x$')\n",
    "    ax4.set_ylabel(r'$p(x)$')\n",
    "    ax4.set_xlim(-5, 9)\n",
    "    ax4.set_ylim(0, 0.26)\n",
    "    ax4.hist(data, 15, normed=True, histtype='stepfilled', alpha=0.8)\n",
    "    datadist = norm(muTrue, sigTrue)\n",
    "    ax4.plot(x, datadist.pdf(x), 'r')\n",
    "    ax4.plot([xmean, xmean], [0.02, 0.07], c='r')\n",
    "    ax4.plot(data, 0.25 * np.ones(len(data)), '|k')\n",
    "\n",
    "    # acceptance rate vs. iteration number\n",
    "    ax5 = fig.add_axes((1.00, 0.60, 0.35, 0.38))\n",
    "    ax5.set_xlabel('iteration')\n",
    "    ax5.set_ylabel(r'acceptance rate (%)')\n",
    "    ax5.set_xlim(0, Niter)\n",
    "    # ax5.set_ylim(0, 4)\n",
    "    iter = np.linspace(1, Niter, Niter)\n",
    "    ax5.plot(iter, accrate)\n",
    "     \n",
    "    # the number of simulations vs. iteration number\n",
    "    ax6 = fig.add_axes((1.00, 0.10, 0.35, 0.38))\n",
    "    ax6.set_xlabel('iteration')\n",
    "    ax6.set_ylabel(r'total sims evals')\n",
    "    ax6.set_xlim(0, Niter)\n",
    "    # ax6.set_ylim(0, 4)\n",
    "    iter = np.linspace(1, Niter, Niter)\n",
    "    ax6.plot(iter, simTot)\n",
    "\n",
    "    plt.show()"
   ]
  },
  {
   "cell_type": "code",
   "execution_count": 6,
   "metadata": {},
   "outputs": [],
   "source": [
    "def simulateData(Ndata, mu, sigma):\n",
    "    # simple gaussian toy model\n",
    "    return np.random.normal(mu, sigma, Ndata)\n",
    "\n",
    "def getData(Ndata, mu, sigma):\n",
    "    # use simulated data\n",
    "    return simulateData(Ndata, mu, sigma)"
   ]
  },
  {
   "cell_type": "code",
   "execution_count": 7,
   "metadata": {},
   "outputs": [],
   "source": [
    "# \"observed\" data:\n",
    "np.random.seed(0)    # for repeatability\n",
    "Ndata = 100\n",
    "muTrue = 2.0\n",
    "sigmaTrue = 2.0\n",
    "data = getData(Ndata, muTrue, sigmaTrue)\n",
    "dataMean = np.mean(data)\n",
    "# very conservative choice for initial tolerance\n",
    "eps0 = np.max(data) - np.min(data)\n",
    "# (very wide) limits for uniform prior\n",
    "thetaMin = -10\n",
    "thetaMax = 10"
   ]
  },
  {
   "cell_type": "code",
   "execution_count": 8,
   "metadata": {},
   "outputs": [],
   "source": [
    "# ABC sampling parameters\n",
    "Ndraw = 1000\n",
    "Niter = 26\n",
    "DpercCut = 80"
   ]
  },
  {
   "cell_type": "code",
   "execution_count": 9,
   "metadata": {},
   "outputs": [],
   "source": [
    "# arrays for tracking iterations \n",
    "theta = np.empty([Niter, Ndraw])\n",
    "weights = np.empty([Niter, Ndraw])\n",
    "D = np.empty([Niter, Ndraw])\n",
    "eps = np.empty([Niter])\n",
    "accrate = np.empty([Niter])\n",
    "simTot = np.empty([Niter])\n",
    "meanT = np.zeros(Niter)\n",
    "stdT = np.zeros(Niter)"
   ]
  },
  {
   "cell_type": "code",
   "execution_count": 10,
   "metadata": {},
   "outputs": [
    {
     "name": "stdout",
     "output_type": "stream",
     "text": [
      "iteration: 1\n",
      " number of sim. evals so far: 2810.0\n",
      "     sim. evals in this iter: 2810\n",
      "         acceptance rate (%): 35.587188612099645\n",
      "                 new epsilon: 3.747800742428658\n",
      "           KL sample scatter: 3.9088207666206944\n",
      "iteration: 2\n",
      " number of sim. evals so far: 4529.0\n",
      "     sim. evals in this iter: 1719\n",
      "         acceptance rate (%): 58.17335660267597\n",
      "                 new epsilon: 2.831756063394538\n",
      "           KL sample scatter: 3.0052790682293784\n",
      "iteration: 3\n",
      " number of sim. evals so far: 6335.0\n",
      "     sim. evals in this iter: 1806\n",
      "         acceptance rate (%): 55.370985603543744\n",
      "                 new epsilon: 2.160458055603449\n",
      "           KL sample scatter: 2.2587673148212857\n",
      "iteration: 4\n",
      " number of sim. evals so far: 8134.0\n",
      "     sim. evals in this iter: 1799\n",
      "         acceptance rate (%): 55.58643690939411\n",
      "                 new epsilon: 1.6456625235625149\n",
      "           KL sample scatter: 1.8304632418084037\n",
      "iteration: 5\n",
      " number of sim. evals so far: 10047.0\n",
      "     sim. evals in this iter: 1913\n",
      "         acceptance rate (%): 52.27391531625719\n",
      "                 new epsilon: 1.257612187267058\n",
      "           KL sample scatter: 1.3668563521112371\n",
      "iteration: 6\n",
      " number of sim. evals so far: 11907.0\n",
      "     sim. evals in this iter: 1860\n",
      "         acceptance rate (%): 53.763440860215056\n",
      "                 new epsilon: 0.9828161376253346\n",
      "           KL sample scatter: 1.042719126541488\n",
      "iteration: 7\n",
      " number of sim. evals so far: 13754.0\n",
      "     sim. evals in this iter: 1847\n",
      "         acceptance rate (%): 54.141851651326476\n",
      "                 new epsilon: 0.7296646422530663\n",
      "           KL sample scatter: 0.830011249695032\n",
      "iteration: 8\n",
      " number of sim. evals so far: 15780.0\n",
      "     sim. evals in this iter: 2026\n",
      "         acceptance rate (%): 49.35834155972359\n",
      "                 new epsilon: 0.5734611153568521\n",
      "           KL sample scatter: 0.6471250006146377\n",
      "iteration: 9\n",
      " number of sim. evals so far: 17725.0\n",
      "     sim. evals in this iter: 1945\n",
      "         acceptance rate (%): 51.41388174807198\n",
      "                 new epsilon: 0.45045526628923327\n",
      "           KL sample scatter: 0.5594171662693772\n",
      "iteration: 10\n",
      " number of sim. evals so far: 19780.0\n",
      "     sim. evals in this iter: 2055\n",
      "         acceptance rate (%): 48.661800486618006\n",
      "                 new epsilon: 0.3508712684406295\n",
      "           KL sample scatter: 0.4728938684640442\n",
      "iteration: 11\n",
      " number of sim. evals so far: 22014.0\n",
      "     sim. evals in this iter: 2234\n",
      "         acceptance rate (%): 44.76275738585497\n",
      "                 new epsilon: 0.27136332572706756\n",
      "           KL sample scatter: 0.4023816615583871\n",
      "iteration: 12\n",
      " number of sim. evals so far: 24600.0\n",
      "     sim. evals in this iter: 2586\n",
      "         acceptance rate (%): 38.669760247486465\n",
      "                 new epsilon: 0.21467684783100782\n",
      "           KL sample scatter: 0.3483870188455545\n",
      "iteration: 13\n",
      " number of sim. evals so far: 27366.0\n",
      "     sim. evals in this iter: 2766\n",
      "         acceptance rate (%): 36.153289949385396\n",
      "                 new epsilon: 0.17172532980341643\n",
      "           KL sample scatter: 0.3251422736855301\n",
      "iteration: 14\n",
      " number of sim. evals so far: 30758.0\n",
      "     sim. evals in this iter: 3392\n",
      "         acceptance rate (%): 29.4811320754717\n",
      "                 new epsilon: 0.1339438876553719\n",
      "           KL sample scatter: 0.3161626302391143\n",
      "iteration: 15\n",
      " number of sim. evals so far: 34700.0\n",
      "     sim. evals in this iter: 3942\n",
      "         acceptance rate (%): 25.36783358701167\n",
      "                 new epsilon: 0.10851469529879447\n",
      "           KL sample scatter: 0.30140014715088465\n",
      "iteration: 16\n",
      " number of sim. evals so far: 39649.0\n",
      "     sim. evals in this iter: 4949\n",
      "         acceptance rate (%): 20.20610224287735\n",
      "                 new epsilon: 0.08671394512232951\n",
      "           KL sample scatter: 0.29343062978627743\n",
      "iteration: 17\n",
      " number of sim. evals so far: 45538.0\n",
      "     sim. evals in this iter: 5889\n",
      "         acceptance rate (%): 16.98081168279844\n",
      "                 new epsilon: 0.06880583399854477\n",
      "           KL sample scatter: 0.3167788133378119\n",
      "iteration: 18\n",
      " number of sim. evals so far: 53235.0\n",
      "     sim. evals in this iter: 7697\n",
      "         acceptance rate (%): 12.992074834351046\n",
      "                 new epsilon: 0.05684009106567408\n",
      "           KL sample scatter: 0.2716148078502225\n",
      "iteration: 19\n",
      " number of sim. evals so far: 62099.0\n",
      "     sim. evals in this iter: 8864\n",
      "         acceptance rate (%): 11.28158844765343\n",
      "                 new epsilon: 0.04468885258966929\n",
      "           KL sample scatter: 0.291729815450315\n",
      "iteration: 20\n",
      " number of sim. evals so far: 73550.0\n",
      "     sim. evals in this iter: 11451\n",
      "         acceptance rate (%): 8.732861758798359\n",
      "                 new epsilon: 0.03523084288062881\n",
      "           KL sample scatter: 0.28211371862230267\n",
      "iteration: 21\n",
      " number of sim. evals so far: 87723.0\n",
      "     sim. evals in this iter: 14173\n",
      "         acceptance rate (%): 7.055669230226487\n",
      "                 new epsilon: 0.028027171422800822\n",
      "           KL sample scatter: 0.28566455425290255\n",
      "iteration: 22\n",
      " number of sim. evals so far: 106022.0\n",
      "     sim. evals in this iter: 18299\n",
      "         acceptance rate (%): 5.46477949614733\n",
      "                 new epsilon: 0.022211537013158634\n",
      "           KL sample scatter: 0.31089018970552496\n",
      "iteration: 23\n",
      " number of sim. evals so far: 130186.0\n",
      "     sim. evals in this iter: 24164\n",
      "         acceptance rate (%): 4.138387684158252\n",
      "                 new epsilon: 0.017310672157556176\n",
      "           KL sample scatter: 0.27356884968210093\n",
      "iteration: 24\n",
      " number of sim. evals so far: 157464.0\n",
      "     sim. evals in this iter: 27278\n",
      "         acceptance rate (%): 3.6659579148031383\n",
      "                 new epsilon: 0.013681562311032016\n",
      "           KL sample scatter: 0.28909520482642886\n",
      "iteration: 25\n",
      " number of sim. evals so far: 193965.0\n",
      "     sim. evals in this iter: 36501\n",
      "         acceptance rate (%): 2.7396509684666173\n",
      "                 new epsilon: 0.011164765216288775\n",
      "           KL sample scatter: 0.2916672133596475\n"
     ]
    }
   ],
   "source": [
    "numberSimEvals = doABC(data, Niter, Ndraw, D, theta, weights, eps, accrate, simTot, sigmaTrue, True)"
   ]
  },
  {
   "cell_type": "code",
   "execution_count": 11,
   "metadata": {},
   "outputs": [
    {
     "data": {
      "image/png": "[encoded data removed]",
      "text/plain": [
       "<Figure size 720x540 with 6 Axes>"
      ]
     },
     "metadata": {
      "needs_background": "light"
     },
     "output_type": "display_data"
    }
   ],
   "source": [
    "# plot\n",
    "plotABC(theta, weights, Niter, data, muTrue, sigmaTrue, accrate, simTot)"
   ]
  },
  {
   "cell_type": "markdown",
   "metadata": {
    "slideshow": {
     "slide_type": "slide"
    }
   },
   "source": [
    "## Conclusions:\n",
    "\n",
    "As shown in the top middle panel in the above figure, the ABC algorithm converges to the correct solution in about 15 iterations. \n",
    "\n",
    "Between the 15th and the 25th iteration, the tolerance $\\epsilon$ decreases from 0.1 to 0.01 and the acceptance probability decreases from 25% to 2.7%. As a result, the total number of simulation evaluations increases by about a factor of six (from about 30,000 to about 180,000), although there is very little gain for our inference of $\\mu$. \n",
    " "
   ]
  },
  {
   "cell_type": "markdown",
   "metadata": {
    "slideshow": {
     "slide_type": "subslide"
    }
   },
   "source": [
    "## Conclusions:\n",
    "\n",
    "Therefore, the stopping criterion requires careful consideration when the cost of simulations is high (e.g., the maximum acceptable relative change of the estimator can be compared to its uncertainty).\n",
    "\n",
    "We can have a much smaller number of sim evals if we don't care about pretty histograms.\n",
    "\n",
    "For 100 times smaller Ndraw, we expect about 100 times fewer simulation evaluations. \n",
    "\n",
    "Let's do it! "
   ]
  },
  {
   "cell_type": "code",
   "execution_count": 12,
   "metadata": {},
   "outputs": [],
   "source": [
    "## LAST POINT: we can have much smaller Ndraw if we don't care about pretty \n",
    "## histograms for 100 times smaller Ndraw, expect about 100 times fewer \n",
    "## simulation evaluations\n",
    "Ndraw = 10"
   ]
  },
  {
   "cell_type": "code",
   "execution_count": 13,
   "metadata": {},
   "outputs": [
    {
     "name": "stdout",
     "output_type": "stream",
     "text": [
      "iteration: 1\n",
      " number of sim. evals so far: 16.0\n",
      "     sim. evals in this iter: 16\n",
      "         acceptance rate (%): 62.5\n",
      "                 new epsilon: 3.382172501177358\n",
      "           KL sample scatter: 4.215968709849081\n",
      "iteration: 2\n",
      " number of sim. evals so far: 31.0\n",
      "     sim. evals in this iter: 15\n",
      "         acceptance rate (%): 66.66666666666667\n",
      "                 new epsilon: 2.1589713569679114\n",
      "           KL sample scatter: 1.2419989351788945\n",
      "iteration: 3\n",
      " number of sim. evals so far: 46.0\n",
      "     sim. evals in this iter: 15\n",
      "         acceptance rate (%): 66.66666666666667\n",
      "                 new epsilon: 1.8210327274810516\n",
      "           KL sample scatter: 1.0197054314561427\n",
      "iteration: 4\n",
      " number of sim. evals so far: 58.0\n",
      "     sim. evals in this iter: 12\n",
      "         acceptance rate (%): 83.33333333333333\n",
      "                 new epsilon: 0.7750945943459232\n",
      "           KL sample scatter: 0.797736358954423\n",
      "iteration: 5\n",
      " number of sim. evals so far: 73.0\n",
      "     sim. evals in this iter: 15\n",
      "         acceptance rate (%): 66.66666666666667\n",
      "                 new epsilon: 0.5690041565242981\n",
      "           KL sample scatter: 0.6461739019978467\n",
      "iteration: 6\n",
      " number of sim. evals so far: 93.0\n",
      "     sim. evals in this iter: 20\n",
      "         acceptance rate (%): 50.0\n",
      "                 new epsilon: 0.33544413819596797\n",
      "           KL sample scatter: 0.41271450725802855\n",
      "iteration: 7\n",
      " number of sim. evals so far: 115.0\n",
      "     sim. evals in this iter: 22\n",
      "         acceptance rate (%): 45.45454545454545\n",
      "                 new epsilon: 0.23315080652592474\n",
      "           KL sample scatter: 0.3900070857100843\n",
      "iteration: 8\n",
      " number of sim. evals so far: 142.0\n",
      "     sim. evals in this iter: 27\n",
      "         acceptance rate (%): 37.03703703703704\n",
      "                 new epsilon: 0.13722661732786437\n",
      "           KL sample scatter: 0.22127660755219733\n",
      "iteration: 9\n",
      " number of sim. evals so far: 164.0\n",
      "     sim. evals in this iter: 22\n",
      "         acceptance rate (%): 45.45454545454545\n",
      "                 new epsilon: 0.11302948977529503\n",
      "           KL sample scatter: 0.250449034952723\n",
      "iteration: 10\n",
      " number of sim. evals so far: 225.0\n",
      "     sim. evals in this iter: 61\n",
      "         acceptance rate (%): 16.39344262295082\n",
      "                 new epsilon: 0.07858595261148027\n",
      "           KL sample scatter: 0.1894978575552935\n",
      "iteration: 11\n",
      " number of sim. evals so far: 289.0\n",
      "     sim. evals in this iter: 64\n",
      "         acceptance rate (%): 15.625\n",
      "                 new epsilon: 0.058777201109350495\n",
      "           KL sample scatter: 0.20845182384740657\n",
      "iteration: 12\n",
      " number of sim. evals so far: 383.0\n",
      "     sim. evals in this iter: 94\n",
      "         acceptance rate (%): 10.638297872340425\n",
      "                 new epsilon: 0.05181113697268893\n",
      "           KL sample scatter: 0.16025549597439864\n",
      "iteration: 13\n",
      " number of sim. evals so far: 482.0\n",
      "     sim. evals in this iter: 99\n",
      "         acceptance rate (%): 10.1010101010101\n",
      "                 new epsilon: 0.04242079769067413\n",
      "           KL sample scatter: 0.1831340381067212\n",
      "iteration: 14\n",
      " number of sim. evals so far: 597.0\n",
      "     sim. evals in this iter: 115\n",
      "         acceptance rate (%): 8.695652173913043\n",
      "                 new epsilon: 0.0281600175430186\n",
      "           KL sample scatter: 0.24356279104144424\n",
      "iteration: 15\n",
      " number of sim. evals so far: 726.0\n",
      "     sim. evals in this iter: 129\n",
      "         acceptance rate (%): 7.751937984496124\n",
      "                 new epsilon: 0.01592375303974274\n",
      "           KL sample scatter: 0.1422976280067622\n",
      "iteration: 16\n",
      " number of sim. evals so far: 1056.0\n",
      "     sim. evals in this iter: 330\n",
      "         acceptance rate (%): 3.0303030303030303\n",
      "                 new epsilon: 0.009543589371648498\n",
      "           KL sample scatter: 0.14508293485217377\n",
      "iteration: 17\n",
      " number of sim. evals so far: 1425.0\n",
      "     sim. evals in this iter: 369\n",
      "         acceptance rate (%): 2.710027100271003\n",
      "                 new epsilon: 0.007252405598960721\n",
      "           KL sample scatter: 0.2343784242537285\n",
      "iteration: 18\n",
      " number of sim. evals so far: 1851.0\n",
      "     sim. evals in this iter: 426\n",
      "         acceptance rate (%): 2.347417840375587\n",
      "                 new epsilon: 0.006186190377834766\n",
      "           KL sample scatter: 0.27415472248158285\n",
      "iteration: 19\n",
      " number of sim. evals so far: 3415.0\n",
      "     sim. evals in this iter: 1564\n",
      "         acceptance rate (%): 0.639386189258312\n",
      "                 new epsilon: 0.0042522614499568515\n",
      "           KL sample scatter: 0.11156624750755727\n",
      "iteration: 20\n",
      " number of sim. evals so far: 4950.0\n",
      "     sim. evals in this iter: 1535\n",
      "         acceptance rate (%): 0.6514657980456026\n",
      "                 new epsilon: 0.0030523219136835422\n",
      "           KL sample scatter: 0.16733791773803083\n",
      "iteration: 21\n",
      " number of sim. evals so far: 6201.0\n",
      "     sim. evals in this iter: 1251\n",
      "         acceptance rate (%): 0.7993605115907274\n",
      "                 new epsilon: 0.0026167158877769656\n",
      "           KL sample scatter: 0.14500926988951582\n",
      "iteration: 22\n",
      " number of sim. evals so far: 8220.0\n",
      "     sim. evals in this iter: 2019\n",
      "         acceptance rate (%): 0.4952947003467063\n",
      "                 new epsilon: 0.0017704114051227294\n",
      "           KL sample scatter: 0.24851827619176742\n",
      "iteration: 23\n",
      " number of sim. evals so far: 10402.0\n",
      "     sim. evals in this iter: 2182\n",
      "         acceptance rate (%): 0.458295142071494\n",
      "                 new epsilon: 0.0011809062949680537\n",
      "           KL sample scatter: 0.17238435823894685\n",
      "iteration: 24\n",
      " number of sim. evals so far: 14219.0\n",
      "     sim. evals in this iter: 3817\n",
      "         acceptance rate (%): 0.26198585276395076\n",
      "                 new epsilon: 0.0009084485215901772\n",
      "           KL sample scatter: 0.11822072981714417\n",
      "iteration: 25\n",
      " number of sim. evals so far: 20065.0\n",
      "     sim. evals in this iter: 5846\n",
      "         acceptance rate (%): 0.17105713308244955\n",
      "                 new epsilon: 0.0007119057854027666\n",
      "           KL sample scatter: 0.22193036173945535\n"
     ]
    }
   ],
   "source": [
    "# arrays for tracking iterations \n",
    "theta = np.empty([Niter, Ndraw])\n",
    "weights = np.empty([Niter, Ndraw])\n",
    "D = np.empty([Niter, Ndraw])\n",
    "# run ABC \n",
    "numberSimEvals2 = doABC(data, Niter, Ndraw, D, theta, weights, eps, accrate, simTot, sigmaTrue, True)"
   ]
  },
  {
   "cell_type": "code",
   "execution_count": 14,
   "metadata": {},
   "outputs": [
    {
     "data": {
      "image/png": "[encoded data removed]",
      "text/plain": [
       "<Figure size 720x540 with 6 Axes>"
      ]
     },
     "metadata": {
      "needs_background": "light"
     },
     "output_type": "display_data"
    }
   ],
   "source": [
    "plotABC(theta, weights, Niter, data, muTrue, sigmaTrue, accrate, simTot)"
   ]
  },
  {
   "cell_type": "markdown",
   "metadata": {
    "slideshow": {
     "slide_type": "slide"
    }
   },
   "source": [
    "\n",
    "For \"professional\" implementations of ABC as an open-source Python code see: \n",
    "\n",
    "***astroABC***, ***abcpmc***, and ***cosmoabc*** \n"
   ]
  }
 ],
 "metadata": {
  "anaconda-cloud": {},
  "celltoolbar": "Slideshow",
  "kernelspec": {
   "display_name": "python36",
   "language": "python",
   "name": "py36"
  },
  "language_info": {
   "codemirror_mode": {
    "name": "ipython",
    "version": 3
   },
   "file_extension": ".py",
   "mimetype": "text/x-python",
   "name": "python",
   "nbconvert_exporter": "python",
   "pygments_lexer": "ipython3",
   "version": "3.6.7"
  },
  "livereveal": {
   "scroll": true,
   "start_slideshow_at": "selected",
   "theme": "sky"
  }
 },
 "nbformat": 4,
 "nbformat_minor": 2
}
